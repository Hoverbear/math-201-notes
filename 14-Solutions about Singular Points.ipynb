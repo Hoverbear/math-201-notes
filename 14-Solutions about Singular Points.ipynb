{
 "metadata": {
  "name": "14-Solutions about Singular Points"
 },
 "nbformat": 3,
 "nbformat_minor": 0,
 "worksheets": [
  {
   "cells": [
    {
     "cell_type": "markdown",
     "metadata": {},
     "source": [
      "# 6.3 Solutions about Singular Points - Math 201\n",
      "### Dr. Florin Diacu (http://www.math.uvic.ca/faculty/diacu/)"
     ]
    },
    {
     "cell_type": "markdown",
     "metadata": {},
     "source": [
      "## Issues\n",
      "Same as previous unit.\n",
      "\n",
      "## Definition\n",
      "A singular point $x=x_0$ for the equation $y\\prime\\prime + P(x)y\\prime + Q(x) = 0$ is called a **regular singular point** if the functions $p(x)=(x-x_0)P(x)$ and $q(x)=(x-x_0)^2Q(x)$ are analytic at $x_0$ (can write them as a power series).\n",
      "\n",
      "A singular point that is not regular (in the sense that $p, q$ is not defined) is called an **irregular singular point**.\n",
      "\n",
      "### Ex\n",
      "$$ (x^2-4)^2y\\prime\\prime + 3(x-2)y\\prime + 5y = 0 $$\n",
      "**Singular Points**: $x^2-4=0$, $x_1=2, x_2=2$\n",
      "\n",
      "Are they regular, or irregular?\n",
      "\n",
      "* $$ x_1=2 $$\n",
      "    $$ p(x) = (x-2)\\frac{3(x-2)}{(x^2-4)^2} $$\n",
      "    $$ = (x-2)\\frac{3}{(x+2)^2} $$\n",
      "    \n",
      "    $$ q(x) = (x-2)^2\\frac{5}{(x^2-4)^2} $$\n",
      "    $$ = \\frac{5}{(x+2)^2} $$\n",
      "\n",
      "    Both $p,q$ are analytic at $x=2$, so $x=2$ is a regular singular point.\n",
      "* $$ x_2 = -2 $$\n",
      "    $$ \\bar{p}(x) = (x+2)\\frac{3(x-2)}{(x^2-4)^2} $$\n",
      "    $$ = \\frac{3}{(x-2)(x+2)} $$\n",
      "    This function is **not defined** at $x=-2$.\n",
      "\n",
      "So it follows that $x=-2$ is an irregular singular point."
     ]
    },
    {
     "cell_type": "markdown",
     "metadata": {},
     "source": [
      "## Theorem: Regular Singular Points\n",
      "If $x=x_0$ is a regular singular point of the equation $y\\prime\\prime + P(x)y\\prime + Q(x) = 0$, then there is at least one solution of the form\n",
      "$$ y(x)=(x-x_0)^r \\sum_{n=0}^{\\infty}{ c_n(x-x_0)^n } = \\sum_{n=0}^{\\infty}{ c_n(x-x_0)^{n+r} } $$\n",
      "Where $r$ is a constant to be determined. The series will converge at least in some interval $0\\lt x-x_0 \\lt \\mathbb{R}$\n",
      "\n",
      "### Ex.\n",
      "$$ 3xy\\prime\\prime + y\\prime - y = 0 $$\n",
      "Check a solution of the form\n",
      "$$ y(x)= \\sum_{n=0}^{\\infty}{ c_nx^{n+r} } $$\n",
      "$$ y\\prime(x) = \\sum_{n=0}^{\\infty}{ (n+r)c_nx^{n+r-1} } $$\n",
      "$$ y\\prime\\prime(x) = \\sum_{n=0}^{\\infty}{ (n+r)(n+r-1)c_nx^{n+r-2} } $$\n",
      "\n",
      "Now we compute:\n",
      "$$ 3xy\\prime\\prime + y\\prime + y = 3\\sum_{n=0}^{\\infty}{ (n+r)(n+r-1)c_nx^{x+r-1} } + \\sum_{n=0}^{\\infty}{ (n+r)c_nx^{n+r-1} } - \\sum_{n=0}^{\\infty}{ c_nx^{n+r} } $$\n",
      "$$ = \\sum_{n=0}^\\infty{ (n+r)(3n+3r-2)c_nx^{n+r-1} } - \\sum_{n=0}^{\\infty}{ c_nx^{n+r} } $$\n",
      "\n",
      "(Letting n=0 here, we're factorizing r)\n",
      "$$ = x^r[r(3n-2)c_0x^{-1} + \\sum_{n=1}^{\\infty}{ (n+r)(3n+3r-2)c_nx^{n-1} } - \\sum_{n=0}^{\\infty}{ c_nx^n } ] $$\n",
      "\n",
      "( In the first sum $k=m-1$, in the second, $k=m$ )\n",
      "$$ = x^r[r(3r-2)c_0x^{-1} + \\sum_{k=0}^{\\infty}{ ((k+r+1)(3k+3r+1)c_{k+1}-c_k)x^k } ] = 0 $$\n",
      "\n",
      "This is the **indicial equation**:\n",
      "$$ \\Rightarrow r(3r-2)c_0=0 $$\n",
      "$$ (k+r+1)(3k+3r+1)c_k - c_k = 0 $$\n",
      "So, $r=0$ or $r=\\frac{2}{3}$.\n",
      "\n",
      "$$ c_{k+1} = \\frac{ c_k }{ (k+r+1)(3k+3r+1) } $$\n",
      "\n",
      "$$ r_1 = \\frac{2}{3}, c_{k+1} = \\frac{c_k}{ (3k+5)(k+1) }, k=0,1,2,... $$\n",
      "$$ r_2 = 0, c_{k+1}=\\frac{c_k}{(k+1)(3k+1)}, k= 0,1,2,... $$\n",
      "\n",
      "So, for $r_1=\\frac{2}{3}$\n",
      "$$ c_1 = \\frac{c_0}{5} $$\n",
      "$$ c_2 = \\frac{c_1}{8*2} = \\frac{c_0}{2!*5*8} $$\n",
      "$$ c_3 = \\frac{c_2}{11*3} = \\frac{ c_0 }{ 3!*5*8*11 } $$\n",
      "$$ c_4 = \\frac{c_3}{14*4} = \\frac{c_0}{ 4!*5*8*11*14 } $$\n",
      "...\n",
      "$$ c_n = \\frac{c_0}{n!5*8*11*...(3n+2)} $$\n",
      "\n",
      "For $r_2=0$\n",
      "$$ c_1 = \\frac{c_0}{1*1} $$\n",
      "$$ c_2 = \\frac{c_1}{2*4} = \\frac{c_0}{2!*1*4} $$\n",
      "$$ c_3 = \\frac{c_2}{3*7} = \\frac{c_0}{3!*1*4*7} $$\n",
      "...\n",
      "$$ c_n = \\frac{c_0}{ n!*1*4*7*...*(3n-2) } $$\n",
      "\n",
      "We have two solutions:\n",
      "$$ y_1(x) = x^{\\frac{2}{3}}[ 1+\\sum_{n=1}^{\\infty}{ \\frac{x^n}{n!*5*8*11*...(3n+2)} }] $$\n",
      "$$ y_2(x) = x^0[1+ \\sum_{n=1}^{\\infty}{ \\frac{x^n}{n!*1*4*7*...(3n-2)} }] $$\n",
      "\n",
      "**Obviously** linearly independent.\n",
      "To check for convergence, use the ratio test to see that they converge for all $x\\in\\mathbb{R}$.\n",
      "\n",
      "So the general solution is of the form\n",
      "$$ y(x) = c_1y_1(x) + c_2y_2(x) $$"
     ]
    },
    {
     "cell_type": "markdown",
     "metadata": {},
     "source": [
      "## In general\n",
      "$x=0$, regular singular point.\n",
      "$$ y\\prime\\prime + P(x)y\\prime + Q(x)y = 0 $$\n",
      "$$ p(x) = xP(x), q(x)=x^2Q(x) $$\n",
      "\n",
      "$$ p(x) = a_0 + a_1x + a_2x^2 + ... $$\n",
      "$$ q(x) = b_0 + b_1x + b_2x^2 + ... $$\n",
      "$$ x^2y\\prime\\prime + x(xP(x))y\\prime + (x^2Q(x))y = 0 $$\n",
      "Substitute\n",
      "$$ y(x) = \\sum_{n=0}^{\\infty}{ c_nx^{n+r} } $$\n",
      "\n",
      "$$ r(r-1)+a_0r+b_0 = 0 $$"
     ]
    },
    {
     "cell_type": "code",
     "collapsed": false,
     "input": [],
     "language": "python",
     "metadata": {},
     "outputs": []
    }
   ],
   "metadata": {}
  }
 ]
}