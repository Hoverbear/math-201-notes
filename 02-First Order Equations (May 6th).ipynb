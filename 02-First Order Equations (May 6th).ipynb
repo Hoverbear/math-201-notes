{
 "metadata": {
  "name": "02-First Order Equations (May 6th)"
 },
 "nbformat": 3,
 "nbformat_minor": 0,
 "worksheets": [
  {
   "cells": [
    {
     "cell_type": "markdown",
     "metadata": {},
     "source": [
      "# First Order Equations - Math 201\n",
      "### Dr. Florin Diacu (http://www.math.uvic.ca/faculty/diacu/)"
     ]
    },
    {
     "cell_type": "code",
     "collapsed": false,
     "input": [
      "from sympy import *\n",
      "%load_ext sympyprinting\n",
      "\n",
      "x = Symbol(\"x\")\n",
      "x+pi"
     ],
     "language": "python",
     "metadata": {},
     "outputs": [
      {
       "latex": [
        "$$x + \\pi$$"
       ],
       "output_type": "pyout",
       "png": "[encoded data removed]",
       "prompt_number": 12,
       "text": [
        "x + \u03c0"
       ]
      }
     ],
     "prompt_number": 12
    },
    {
     "cell_type": "markdown",
     "metadata": {},
     "source": [
      "### Definition\n",
      "The **general form** of a first-order ordinary differential equation (ODE) if given by:\n",
      "$$ F(t,x,x\\prime)=0 $$\n",
      "Where $F$ is a function that relates variables $t,x,x\\prime$.\n",
      "\n",
      "**Ex.**\n",
      "$$ x\\prime = x $$\n",
      "$$ F(t,x,x\\prime)=x\\prime-x $$\n",
      "\n",
      "**Ex.**\n",
      "$$ x\\prime=-5t^2 $$\n",
      "$$ F(t,x,x\\prime)=x\\prime+5t^2 $$\n",
      "\n",
      "**Ex.**\n",
      "$$ 3tx\\prime=6x+\\sin{t} $$\n",
      "$$ F(t,x,x\\prime)=3tx\\prime+6x - \\sin{t} $$"
     ]
    },
    {
     "cell_type": "markdown",
     "metadata": {},
     "source": [
      "### Definition\n",
      "The **normal form** of an equation is given by:\n",
      "$$ x\\prime = F(t,x) $$\n",
      "$$ (F(t,x,x\\prime)=x\\prime-F(t,x)) $$\n",
      "\n",
      "**Ex.**\n",
      "$$ x\\prime = x $$\n",
      "$$ F(t,x)=x $$\n",
      "\n",
      "**Ex.**\n",
      "$$ x\\prime = -5t^2 $$\n",
      "$$ F(t,x)=-5t^2 $$\n",
      "\n",
      "**Ex.**\n",
      "$$ 3tx\\prime=6x+\\sin{t} $$\n",
      "$$ F(t,x)=2\\frac{x}{t}+\\frac{\\sin{t}}{3t} $$\n",
      "$$ t \\neq 0 $$"
     ]
    },
    {
     "cell_type": "markdown",
     "metadata": {},
     "source": [
      "## Vector Field\n",
      "**Ex.**\n",
      "$$ x\\prime = \\frac{1}{2}x $$\n",
      "$$ F(t,x)=\\frac{1}{2}x $$\n",
      "\n",
      "The function $F$ is called a **vector field**.\n"
     ]
    },
    {
     "cell_type": "markdown",
     "metadata": {},
     "source": [
      "### Definition\n",
      "A differentiable function $\\phi$ that satisfies the relation\n",
      "$$ \\phi\\prime(t) = F(t,\\phi(t)) $$\n",
      "for every $t$ in some open interval is called a solution of the equation\n",
      "$$ x\\prime = F(t,x) $$\n",
      "\n",
      "**Ex.**\n",
      "$$ x\\prime = \\frac{1}{2}x $$\n",
      "The function $ \\phi(t) = e^{\\frac{t}{2}} $ is a solution:\n",
      "\n",
      "1. $ \\phi(t)=e^{\\frac{t}{2}} $ is differentiable.\n",
      "2. $ \\phi\\prime(t) = \\frac{1}{2}e^{\\frac{t}{2}} $\n",
      "    $$ F(t,\\phi(t))=\\frac{1}{2}e^{\\frac{t}{2}} \\rightarrow \\phi\\prime(t)=F(t,\\phi(t))$$\n",
      "    So the equation is satisfied, therefore $\\phi$ is a solution.\n",
      "\n",
      "**Ex.**\n",
      "$$ x\\prime=-5t^2 $$\n",
      "$$ v(t)=-\\frac{5}{3}t^3 $$ is a solution.\n",
      "Indeed:\n",
      "\n",
      "1. $ v\\prime(t) $ is differentiable.\n",
      "2. $v\\prime(t)=-5t^2$\n",
      "    $$ -5t^2 =-5t^2 $$\n",
      "\n",
      "**Ex.**\n",
      "$$ x\\prime = 3t^2x $$\n",
      "$$ u(t)=e^t $$ is a solution.\n",
      "\n",
      "1. $u$ is differentiable.\n",
      "2. $u\\prime(t)=3t^2e^{t^3}$\n",
      "    $$ F(t,u(t))=3t^2e^{t^3} $$"
     ]
    },
    {
     "cell_type": "markdown",
     "metadata": {},
     "source": [
      "## Singular Solution\n",
      "### Definition\n",
      "A function $ \\phi(t)=\\gamma $ where $\\gamma$ is a constant such that $ F(t,\\gamma)=0 $ for all $t$, is called a singular solution of the equation $x\\prime=F(t,x)$.\n",
      "\n",
      "**Ex.**\n",
      "$$ x\\prime=2x^2 $$\n",
      "$$ F(t,x) = 2x^2 $$\n",
      "Singular Solution. $\\phi(t)=0, \\phi:  \\mathbb{R} \\rightarrow  \\mathbb{R} $\n",
      "$$ \\phi\\prime(t)=0 $$\n",
      "$$ 2\\phi^2(t)=0 $$\n",
      "$$ F(t,\\phi(t))=2\\phi^2(t)=0 $$\n",
      "\n",
      "**Ex.**\n",
      "$$ x\\prime = -3t(x-5) $$\n",
      "Singular Solution: $$ \\psi(t)=5, \\psi:  \\mathbb{R}  \\rightarrow  \\mathbb{R}  $$\n",
      "\n",
      "**Ex.**\n",
      "$$ x\\prime=4x^2-1 $$\n",
      "$$ 4x^2-1=0 \\Rightarrow x_1=\\frac{1}{2} \\Rightarrow x_2=-\\frac{1}{2} $$\n",
      "\n",
      "$$ \\psi_1: \\mathbb{R} \\rightarrow \\mathbb{R}, \\psi_1(t)=\\frac{1}{2} $$\n",
      "$$ \\psi_2: \\mathbb{R} \\rightarrow \\mathbb{R}, \\psi_2(t)=-\\frac{1}{2} $$\n",
      "\n",
      "**Ex.**\n",
      "$$ x\\prime = x^{\\frac{2}{3}} $$\n",
      "In general, almost all the solutions can be written as $ x(t)=(\\frac{t}{3}+c)^3 $, $c \\in \\mathbb{R}$\n",
      "\n",
      "*TODO: Check for a solution (Just differentiate)*\n",
      "\n",
      "$$ \\phi(t)=0 $$\n",
      "$$\\phi: \\mathbb{R} \\rightarrow \\mathbb{R} $$\n",
      "Is also a solution (Singular). But this solution cannot be found in the forumla for $x$.\n",
      "\n",
      "Always check for **singular solutions**."
     ]
    },
    {
     "cell_type": "markdown",
     "metadata": {},
     "source": [
      "## Initial-Value Problem (IVP)\n",
      "### Definition\n",
      "An initial-value problem  for a first order equation is given by \n",
      "$$ x\\prime=F(t,x), x(t_0)=x_0 $$\n",
      "$t_0, x_0$ given.\n",
      "\n",
      "A solution of this IVP is a solution of the equation $x\\prime=F(t,x)$ that also satisfies the initial condition.\n",
      "\n",
      "Essentially, you're trying to figure out where $t_0$ and $x_0$ 'meet'.\n",
      "\n",
      "**Ex.**\n",
      "$$x\\prime=x $$\n",
      "$$x(0)=1$$\n",
      "\n",
      "$x(t)=e^t$ verifies: \n",
      "$$x\\prime=x$$\n",
      "$$x(0)=e^0=1$$\n",
      "So it verifies the initial condition too.\n",
      "\n",
      "The other solution of $x\\prime=x$ we know. Normally $x(t)=0$ is not a solution of the IVP because $x(0)=0\\neq1$"
     ]
    },
    {
     "cell_type": "markdown",
     "metadata": {},
     "source": [
      "## Separable Equations\n",
      "### Definition\n",
      "An equation of the form\n",
      "$$ x\\prime=g(t)*h(x) $$\n",
      "Where $g,h$ are functions with $h(x)\\neq0$ are called **separable equations**.\n",
      "\n",
      "**Ex.**\n",
      "$$x\\prime=\\frac{1}{2}t^3x^2$$\n",
      "$$g(t)=\\frac{1}{2}t^3$$\n",
      "$$h(x)=x^2$$\n",
      "\n",
      "Seperable!\n",
      "\n",
      "**Ex.**\n",
      "$$x\\prime=\\frac{e^t}{x}$$\n",
      "$$g(t)=e^t$$\n",
      "$$h(x)=\\frac{1}{x}$$\n",
      "\n",
      "Separable!\n",
      "\n",
      "### Method For Solving\n",
      "\n",
      "1. Separate the variables and obtain\n",
      "    $$ \\frac{x\\prime}{h(x)}=g(t) $$\n",
      "2. Since $x, x\\prime$ are functions of $t$, both sides of the equation depend on $t$, so apply the integral.\n",
      "    $$ \\int \\frac{x\\prime}{h(x)}dt = \\int g(t)dt $$\n",
      "3. Use the change-of-variable theorem for the left integral. $x\\prime dt=dx$, and reach\n",
      "    $$ \\int \\frac{dx}{h(x)}=\\int g(t)dt $$\n",
      "4. After integration obtain the general formula in **implict form** of the solution:\n",
      "    $$ H(x)=G(t)+C $$\n",
      "5. Solve for $x$ (if possible) to obtain the general solution in **explicit form**.\n",
      "6. Look for **Singular Solutions**, which may or may not be in the general formula.\n",
      "\n",
      "**Ex.**\n",
      "$$ x\\prime = x $$\n",
      "\n",
      "1. $$ \\frac{x\\prime}{x}=1$$\n",
      "2. $$ \\int \\frac{x\\prime}{x} dt = \\int 1 dt $$\n",
      "3. $$ \\int \\frac{dx}{x} = \\int dt $$\n",
      "4. $$ \\ln |x| = t + C $$\n",
      "5. $$ e^{\\ln |x(t)|}=e^{t+C} $$\n",
      "   $$ |x(t)|=e^Ce^t $$\n",
      "\n",
      "    This implies\n",
      "\n",
      "    $ x(t) = e^Ce^t $ for $ x>0$\n",
      "    $ x(t) = -e^Ce^t $ for $ x<0$\n",
      "\n",
      "    $ x(t)=ke^t $, where $k=e^C$ if $x>0$ but for $k=-e^C$ for $x<0$. But $C$ goes from $-\\infty$ to $\\infty$, which takes $k$ also from $-\\infty$ to $\\infty$, as the general formula is\n",
      "    $$ x(t)=ke^t, k\\neq0 $$\n",
      "6. $ x\\prime=x$ singular solution: $x(t)=0$ which can be included into the foruma by taking $k=0$.\n",
      "\n",
      "The general solution:\n",
      "$$ x(t)=ke^t, k\\in\\mathbb{R} $$"
     ]
    },
    {
     "cell_type": "markdown",
     "metadata": {},
     "source": [
      "# Homework\n",
      "From textboox:\n",
      "\n",
      "1. Pg. 51-52, problems 1-35.\n",
      "    Do until you understand."
     ]
    },
    {
     "cell_type": "code",
     "collapsed": false,
     "input": [],
     "language": "python",
     "metadata": {},
     "outputs": []
    }
   ],
   "metadata": {}
  }
 ]
}