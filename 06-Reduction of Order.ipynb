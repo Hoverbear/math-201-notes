{
 "metadata": {
  "name": "06-Reduction of Order"
 },
 "nbformat": 3,
 "nbformat_minor": 0,
 "worksheets": [
  {
   "cells": [
    {
     "cell_type": "markdown",
     "metadata": {},
     "source": [
      "# 4.2 Reduction of Order - Math 201\n",
      "### Dr. Florin Diacu (http://www.math.uvic.ca/faculty/diacu/)"
     ]
    },
    {
     "cell_type": "code",
     "collapsed": false,
     "input": [
      "from sympy import *\n",
      "%load_ext sympyprinting\n",
      "\n",
      "x = Symbol(\"x\")\n",
      "x+pi"
     ],
     "language": "python",
     "metadata": {},
     "outputs": [
      {
       "latex": [
        "$$x + \\pi$$"
       ],
       "output_type": "pyout",
       "png": "[encoded data removed]",
       "prompt_number": 12,
       "text": [
        "x + \u03c0"
       ]
      }
     ],
     "prompt_number": 12
    },
    {
     "cell_type": "markdown",
     "metadata": {},
     "source": [
      "$$ a_2(x)y\\prime\\prime+ a_1(x)y\\prime+a_0(x)y=0 $$\n",
      "Second order linear homogeneous equation.\n",
      "\n",
      "Two functions are dependant if you can find $c_1,c_2 \\neq 0$ such that $c_1f_1(x)+c_2f_2(x) = 0$\n",
      "\n",
      "$$ f_1(x)=\\frac{c_2}{c_1}f_2(x) \\Rightarrow \\frac{f_1}{f_2} const $$\n",
      "\n",
      "Let's assume that somehow, you get one solution, say $y_1(x)$, then to find a second solution $y_2(x)$ such that $y_1$ and $y_2$ are linearly indepedant, then you can check a solution of the form\n",
      "$$ y_2(x)=u(x)y_1(x) $$\n",
      "Where $u$ is to be determined.\n",
      "\n",
      "This is called reduction of order."
     ]
    },
    {
     "cell_type": "markdown",
     "metadata": {},
     "source": [
      "### Ex.\n",
      "$$ y\\prime\\prime - y = 0 $$\n",
      "$ y_1(x)= e^x, y: \\mathbb{R} \\rightarrow \\mathbb{R} $ is a solution.\n",
      "\n",
      "Check a solution of the form $y_2(x)=u(x)e^x$\n",
      "$$ y_2\\prime(x) = u\\prime(x)e^x + u(x)e^x $$\n",
      "$$ y_2\\prime\\prime(x) = u\\prime\\prime(x) e^x + u\\prime(x) e^x + u\\prime(x)e^x + u(x)e^x = u\\prime\\prime(x)e^x + 2u\\prime(x)e^x + u(x)e^x = (u\\prime\\prime(x) + 2u\\prime(x)+u(x))e^x $$\n",
      "\n",
      "$$ (u\\prime\\prime + 2u\\prime + u)e^x = ue^x $$\n",
      "$$ u\\prime\\prime + 2u\\prime+u=u $$\n",
      "$$ u\\prime\\prime+2u\\prime = 0 $$\n",
      "$$ u\\prime = v, u\\prime\\prime = v\\prime $$\n",
      "$$ v\\prime + 2v = 0 $$\n",
      "\n",
      "$$ \\frac{v\\prime}{v} = -2 $$\n",
      "$$ \\ln{|v|} = -2x $$\n",
      "Solution $v$.\n",
      "\n",
      "$$ u= \\int{v} $$\n",
      "\n",
      "From these infinitely many solutions, choose one! (Not zero, you hacker) then you have $u$, so you have $y_2$.\n",
      "\n",
      "$ y_2(x)=e^{-x} $ is one we can choose."
     ]
    },
    {
     "cell_type": "code",
     "collapsed": false,
     "input": [],
     "language": "python",
     "metadata": {},
     "outputs": []
    }
   ],
   "metadata": {}
  }
 ]
}