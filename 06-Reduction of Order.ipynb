{
 "metadata": {
  "name": "06-Reduction of Order"
 },
 "nbformat": 3,
 "nbformat_minor": 0,
 "worksheets": [
  {
   "cells": [
    {
     "cell_type": "markdown",
     "metadata": {},
     "source": [
      "# 4.2 Reduction of Order - Math 201\n",
      "### Dr. Florin Diacu (http://www.math.uvic.ca/faculty/diacu/)"
     ]
    },
    {
     "cell_type": "code",
     "collapsed": false,
     "input": [
      "from sympy import *\n",
      "%load_ext sympyprinting\n",
      "\n",
      "x = Symbol(\"x\")\n",
      "x+pi"
     ],
     "language": "python",
     "metadata": {},
     "outputs": [
      {
       "latex": [
        "$$x + \\pi$$"
       ],
       "output_type": "pyout",
       "png": "[encoded data removed]",
       "prompt_number": 12,
       "text": [
        "x + \u03c0"
       ]
      }
     ],
     "prompt_number": 12
    },
    {
     "cell_type": "markdown",
     "metadata": {},
     "source": [
      "$$ a_2(x)y\\prime\\prime+ a_1(x)y\\prime+a_0(x)y=0 $$\n",
      "Second order linear homogeneous equation.\n",
      "\n",
      "Two functions are dependant if you can find $c_1,c_2 \\neq 0$ such that $c_1f_1(x)+c_2f_2(x) = 0$\n",
      "\n",
      "$$ f_1(x)=\\frac{c_2}{c_1}f_2(x) \\Rightarrow \\frac{f_1}{f_2} const $$\n",
      "\n",
      "Let's assume that somehow, you get one solution, say $y_1(x)$, then to find a second solution $y_2(x)$ such that $y_1$ and $y_2$ are linearly indepedant, then you can check a solution of the form\n",
      "$$ y_2(x)=u(x)y_1(x) $$\n",
      "Where $u$ is to be determined.\n",
      "\n",
      "This is called reduction of order."
     ]
    },
    {
     "cell_type": "markdown",
     "metadata": {},
     "source": [
      "### Ex.\n",
      "$$ y\\prime\\prime - y = 0 $$\n",
      "$ y_1(x)= e^x, y: \\mathbb{R} \\rightarrow \\mathbb{R} $ is a solution.\n",
      "\n",
      "Check a solution of the form $y_2(x)=u(x)e^x$\n",
      "$$ y_2\\prime(x) = u\\prime(x)e^x + u(x)e^x $$\n",
      "$$ y_2\\prime\\prime(x) = u\\prime\\prime(x) e^x + u\\prime(x) e^x + u\\prime(x)e^x + u(x)e^x = u\\prime\\prime(x)e^x + 2u\\prime(x)e^x + u(x)e^x = (u\\prime\\prime(x) + 2u\\prime(x)+u(x))e^x $$\n",
      "\n",
      "$$ (u\\prime\\prime + 2u\\prime + u)e^x = ue^x $$\n",
      "$$ u\\prime\\prime + 2u\\prime+u=u $$\n",
      "$$ u\\prime\\prime+2u\\prime = 0 $$\n",
      "$$ u\\prime = v, u\\prime\\prime = v\\prime $$\n",
      "$$ v\\prime + 2v = 0 $$\n",
      "This is seperable!\n",
      "\n",
      "$$ \\frac{v\\prime}{v} = -2 $$\n",
      "$$ \\ln{|v|} = -2x $$\n",
      "Solution $v$.\n",
      "\n",
      "$$ u= \\int{\\frac{v\\prime}{v} dx} = -\\int{2dx} $$\n",
      "$$ \\int{\\frac{dv}{v}}=-2x+k $$\n",
      "$$ \\ln(|v|) = -2x+k $$\n",
      "$$ v(x)=ce^{-2x}, c\\in\\mathbb{R}$$\n",
      "\n",
      "$$ u\\prime(x)=ce^{-2x}, u(x)=-\\frac{1}{2}ce^{-2x}+c_1, c, c_1 \\in \\mathbb{R} $$\n",
      "\n",
      "$$ y_2(x)=(-\\frac{1}{2}ce^{-2x}+c_1)e^x = - \\frac{c}{2}e^{-x}+c_1e^x $$\n",
      "**Choose conveniently $c=-2$, $c_1=0$**\n",
      "$$ y_2(x)=e^{-x} $$\n",
      "General solution of $y\\prime\\prime=y$\n",
      "$$ y(x)=k_1e^x+k_2e^{-x} $$"
     ]
    },
    {
     "cell_type": "markdown",
     "metadata": {},
     "source": [
      "## In General\n",
      "The equations we can solve in this way are in the form:\n",
      "$$ y\\prime\\prime + P(x)y\\prime + Q(x)y = 0 $$\n",
      "$$ P,Q : I\\rightarrow \\mathbb{R} $$\n",
      "\n",
      "Assume we have a solution $y_1: I\\rightarrow \\mathbb{R}$.\n",
      "\n",
      "$ y_1(x) \\neq 0 $ for every $x\\in I$.\n",
      "\n",
      "Try to find a solution of the form:\n",
      "$$ y(x) = u(x)y_1(x) $$\n",
      "\n",
      "Compute:\n",
      "$$ y\\prime = uy\\prime_1 + u\\prime y_1 $$\n",
      "$$ y\\prime\\prime = uy\\prime\\prime_1 + 2y_1\\prime u\\prime + y_1 u\\prime\\prime $$\n",
      "\n",
      "Substite into **the general solution** and obtain:\n",
      "$$ y\\prime\\prime + Py\\prime + Qy = u(y\\prime\\prime_1 + Py\\prime_1 + Qy) + y_1u\\prime\\prime +(2y\\prime_1+Py_1)u\\prime = 0 $$\n",
      "\n",
      "Where $(y\\prime\\prime_1 + Py\\prime_1 + Qy)$ is equal to 0.\n",
      "$$ y_1u\\prime\\prime+(2y\\prime_1+Py)u\\prime = 0 $$\n",
      "\n",
      "Set $ w = u\\prime $:\n",
      "$$ y_1w\\prime + (2y\\prime_1 + Py_1)w = 0 $$\n",
      "This is a linear and seperable equation.\n",
      "\n",
      "**We'll treat it as seperable and solve that way.**\n",
      "\n",
      "Seperate the variables and integrate:\n",
      "$$ \\frac{dw}{w}+y\\frac{y_1\\prime}{y_1}dx + Pdx = 0 $$\n",
      "$$ \\ln{|wy_1^2|} = -\\int{Pdx} + C $$\n",
      "$$ wy_1^2 = C_1e^{-\\int{Pdx}} $$\n",
      "**Returning Back.**\n",
      "\n",
      "$$ u\\prime= \\frac{c_1}{y_1^2}e^{-\\int{Pdx}} $$\n",
      "$$ u(x)=c_1\\int{\\frac{e^{-\\int{Pdx}}}{y_1^2}}dx+c_2 $$\n",
      "\n",
      "So we can choose $c_1=1, c_2=0$:\n",
      "$$ y_2(x)=y_1(x) \\int{\\frac{e^{-\\int{Pdx}}}{y_1^2}}dx $$"
     ]
    },
    {
     "cell_type": "markdown",
     "metadata": {},
     "source": [
      "### Homework:\n",
      "Page: 131-132\n",
      "\n",
      "Equations: 1-20"
     ]
    },
    {
     "cell_type": "code",
     "collapsed": false,
     "input": [],
     "language": "python",
     "metadata": {},
     "outputs": []
    }
   ],
   "metadata": {}
  }
 ]
}