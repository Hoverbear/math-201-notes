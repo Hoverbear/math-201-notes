{
 "metadata": {
  "name": "LAB-12"
 },
 "nbformat": 3,
 "nbformat_minor": 0,
 "worksheets": [
  {
   "cells": [
    {
     "cell_type": "markdown",
     "metadata": {},
     "source": [
      "# Lab 12 - Math 201\n",
      "### Seth Chart"
     ]
    },
    {
     "cell_type": "markdown",
     "metadata": {},
     "source": [
      "1. $ y\\prime + 4y = e^{-4t}, y(0)=2 $\n",
      "2. $ y\\prime\\prime + 2y\\prime + y = 0, y(0) = 1, y\\prime(0) = 1 $\n",
      "3. $ y\\prime\\prime - 6y\\prime + 9y = t, y(0) = 0, y\\prime(0) = 1 $\n",
      "4. $ y\\prime\\prime - 6y\\prime + 13y = 0, y(0) = 0, y\\prime(0) = -3 $\n",
      "5. $ y\\prime\\prime - y\\prime = e^t\\cos{t}, y(0), y\\prime(0) = 0 $\n",
      "6. $ y\\prime\\prime + 2y\\prime + y = 0, y\\prime(0)=2, y(1) = 2 $\n",
      "\n",
      "### Notes\n",
      "$$ L[U(t-a)F(t-a)] = e^{-as}L(F)(s) = e^{-as}F(S) $$\n",
      "$$ L^{-1}[F(s-a)] = e^{at}F(t) $$\n",
      "\n",
      "### Ex 1\n",
      "\n",
      "$$ L[y\\prime] + L[4y] = L[e^{-4t}] $$\n",
      "\n",
      "$$ L[e^{-4t}] = \\frac{1}{s-(-4)} $$\n",
      "How?:\n",
      "$$ L^{-1}[\\frac{1}{s+4}] = e^{-4t}L[\\frac{1}{s}] = e^{-4t}(1) $$\n",
      "Yay!\n",
      "\n",
      "$$ sY(s) - y(0) + 4Y(s) = \\frac{1}{s+4} $$\n",
      "$$ Y(s)(s+4) - 2 = \\frac{1}{s+4} $$\n",
      "$$ Y(s) = \\frac{1}{(s+4)^2} + \\frac{2}{s+4} $$\n",
      "Here's the trick!:\n",
      "$$ L^{-1}[\\frac{1}{(s+4)^2}] = e^{-4t}L^{-1}[\\frac{1}{s^2}] = e^{-4t}t $$\n",
      "$$ L^{-1}[\\frac{1}{s+4}] = e^{-4t} $$\n",
      "Which results in:\n",
      "$$ Y(t) = te^{-4t} + 2e^{-4t} $$"
     ]
    },
    {
     "cell_type": "markdown",
     "metadata": {},
     "source": [
      "### Ex 2\n",
      "$$ y\\prime\\prime + 2y\\prime + y = 0 $$\n",
      "Subbing:\n",
      "$$ (s^2Y(s) - y\\prime(0) - y(0)) + 2(sY(s)-y(0)) + Y(s) = 0 $$\n",
      "$$ Y(s)(s^2+2s+1)-y\\prime(0) -y(0) - y(0) = 0 $$\n",
      "$$ Y(s)(s^2 + 2s +1) - 1 - 2(1) = Y(s)(3s+1) - 3 = 0 $$\n",
      "Solve for Y:\n",
      "$$ Y(s) = \\frac{3}{s^2 + 2s+1} $$\n",
      "$$ y(s) = 3\\frac{1}{s^2 + 2s+1} = 3 \\frac{1}{(s+1)^2} $$\n",
      "\n",
      "Do the inverse laplace:\n",
      "$$ L^{-1}[\\frac{1}{(s+1)^2}] = e^{-1t}L^{-1}[\\frac{1}{s^2}] = e^{-1t}t $$\n",
      "\n",
      "So the result is:\n",
      "$$ y(t) = e^{-1t}t $$"
     ]
    },
    {
     "cell_type": "markdown",
     "metadata": {},
     "source": [
      "### Ex 3\n",
      "$$ y\\prime\\prime - 6y\\prime + 9y = t $$\n",
      "\n",
      "Laplace:\n",
      "$$ s^2Y(s) - sy(0) - y\\prime(0) - 6sY(s) + 6y(0) + 9Y(s) = \\frac{1}{s^2} $$\n",
      "$$ (s-3)^2Y(s) = \\frac{1}{s^2} + 1 $$\n",
      "$$ Y(s) = \\frac{1}{(s^2)(s-3)^2} + \\frac{1}{(s-3)^2} $$\n",
      "\n",
      "$$ \\frac{!}{s^2(s-3)^2} = \\frac{A}{s} + \\frac{B}{s^2} + \\frac{C}{(s-3)} + \\frac{D}{(s-3)^2} $$\n",
      "$$ As(s-3)^2 + B(s-3)^2 + Cs^2(s-3) + Ds^2 = 1 $$\n",
      "..."
     ]
    },
    {
     "cell_type": "code",
     "collapsed": false,
     "input": [],
     "language": "python",
     "metadata": {},
     "outputs": []
    }
   ],
   "metadata": {}
  }
 ]
}