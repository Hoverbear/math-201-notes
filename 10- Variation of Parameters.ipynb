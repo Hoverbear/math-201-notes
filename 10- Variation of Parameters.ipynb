{
 "metadata": {
  "name": "10- Variation of Parameters"
 },
 "nbformat": 3,
 "nbformat_minor": 0,
 "worksheets": [
  {
   "cells": [
    {
     "cell_type": "markdown",
     "metadata": {},
     "source": [
      "# 4.6 Variation of Parameters - Math 201\n",
      "### Dr. Florin Diacu (http://www.math.uvic.ca/faculty/diacu/)"
     ]
    },
    {
     "cell_type": "code",
     "collapsed": false,
     "input": [
      "from sympy import *\n",
      "%load_ext sympyprinting\n",
      "\n",
      "x = Symbol(\"x\")\n",
      "x+pi"
     ],
     "language": "python",
     "metadata": {},
     "outputs": [
      {
       "latex": [
        "$$x + \\pi$$"
       ],
       "output_type": "pyout",
       "png": "[encoded data removed]",
       "prompt_number": 12,
       "text": [
        "x + \u03c0"
       ]
      }
     ],
     "prompt_number": 12
    },
    {
     "cell_type": "markdown",
     "metadata": {},
     "source": [
      "### Midterm Topics:\n",
      "\n",
      "* First Order Equations\n",
      "* Seperable\n",
      "* First Order (Variation of Parameters)\n",
      "* Applications growth/decay (Radiocarbon, Newtons Cooling and heating)\n",
      "* 4.1\n",
      "* 4.2\n",
      "* 4.3\n",
      "* Some 4.4\n"
     ]
    },
    {
     "cell_type": "markdown",
     "metadata": {},
     "source": [
      "# Starting with Second Order Equations\n",
      "Should be of the form:\n",
      "$$ a_2(x)y\\prime\\prime+a_1(x)y\\prime+a_0(x)y=g(x) $$\n",
      "First, we need t restrict the problem to intervals (maximal) where $a_2(x)$ is non-zero.\n",
      "\n",
      "To simplify things, divide by $a_2(x)$:\n",
      "$$ y\\prime\\prime+\\frac{a_1(x)}{a_2(x)}y\\prime+\\frac{a_0(x)}{a_2(x)}y=\\frac{g(x)}{a_2(x)} $$\n",
      "\n",
      "$$ \\frac{a_1(x)}{a_2(x)} = P(x) $$\n",
      "$$ \\frac{a_0(x)}{a_2(x)} = Q(x) $$\n",
      "$$ \\frac{g(x)}{a_2(x)} =  f(x) $$\n",
      "\n",
      "$$ y\\prime\\prime+P(x)y\\prime+Q(x)y=f(x) $$\n",
      "Assume $u_1, u_2$ are linearly independent solutions of\n",
      "$$ y\\prime\\prime+P(x)y\\prime+Q(x)y=0 $$\n",
      "This equation has the **general solution** of the form:\n",
      "$$ y(x)+c_1u_1(x)+c_2u_2(x) $$\n",
      "$ c_1, c_2 $ constant.\n",
      "\n",
      "We will check weither $y_p(x)=c_1(x)u_1(x)+c_2(x)u_2(x)$ is a particular solution of the non-homogeneous equation.\n",
      "\n",
      "To do this, we first need $y_p\\prime, y_p\\prime\\prime$:\n",
      "$$ y_p\\prime = c_1\\prime u_1 + c_1u_1\\prime + c_2\\prime u_2 + c_2 u_2\\prime $$\n",
      "$$ y_p\\prime\\prime = c_1\\prime\\prime u_1 + 2c_1\\prime u_1\\prime + c_1 u_1\\prime\\prime + c_2\\prime\\prime u_2+2c_2\\prime u_2\\prime + c_2 u_2\\prime\\prime $$\n",
      "\n",
      "Lets plug into the original equation:\n",
      "$$ (c_1\\prime\\prime u_1 + 2c_1\\prime u_1\\prime + c_1 u_1\\prime\\prime + c_2\\prime\\prime u_2 + 2c_2\\prime u_2\\prime + c_2u_2\\prime\\prime) + P(x)(c_1\\prime u_1 + c_1 u_1\\prime + c_2\\prime u_2 + c_2 u_2\\prime) + Q(x)(c_1u_1+c_2u_2) = f(x) $$\n",
      "\n",
      "Rearranging:\n",
      "$$ c_1(u_1\\prime\\prime + Pu_1\\prime + Qu_1) + c_2(u_2\\prime\\prime+Pu_2\\prime + Qu_2) + c_1\\prime\\prime u_1 + c_1\\prime u_1\\prime + c_2\\prime\\prime u_2 + c_2\\prime u_2\\prime + P(c_1\\prime u_1 + c_2\\prime u_2) + c_1\\prime u_1\\prime + c_2\\prime u_2\\prime = f(x) $$\n",
      "\n",
      "Note that $u_1$ and $u_2$ are solutions of the original equation (=0) so they cancel out:\n",
      "$$ c_1\\prime\\prime u_1 + c_1\\prime u_1\\prime + c_2\\prime\\prime u_2 + c_2\\prime u_2\\prime + P(c_1\\prime u_1 + c_2\\prime u_2) + c_1\\prime u_1\\prime + c_2\\prime u_2\\prime = f(x) $$\n",
      "\n",
      "So we can write everything out as:\n",
      "$$ \\frac{d}{dx}(c_1\\prime u_1 + c_2\\prime u_2) + P(c_1\\prime u_1 + c_2\\prime u_2) + c_1\\prime u_1\\prime + c_2\\prime u_2\\prime = f(x) $$\n",
      "\n",
      "Since we have one equation and two unknowns, **we need to impose a condition... We can impose the condition that $u_1 c_1\\prime + u_2c_2\\prime = 0$**, which leaves us with:\n",
      "$$ u_1 c_1\\prime + u_2 c_2\\prime = 0 $$\n",
      "$$ u_1\\prime c_1\\prime + u_2\\prime c_2\\prime = 0 $$\n",
      "This is a linear algebraic system in unknowns $c_1\\prime, c_2\\prime$.\n",
      "\n",
      "We can use linear algebra in this case to get the determinants:\n",
      "$$ c_1\\prime = \\frac{W_1}{W} = - \\frac{u_2f(x)}{W} = - \\frac{u_2f(x)}{u_1 u_2\\prime - u_1\\prime u_2} $$\n",
      "$$ c_2\\prime = \\frac{W_2}{W} = \\frac{u_1f(x)}{W} = \\frac{u_1f(x)}{u_1u_2\\prime - u_1\\prime u_2} $$\n",
      "\n",
      "$$ W_1 = \\begin{vmatrix} 0 & u_2 \\\\\\ f(x) & u_2\\prime \\end{vmatrix}, W_2 = \\begin{vmatrix} u_1 & 0 \\\\\\ u_1\\prime & f(x) \\end{vmatrix}, W=\\begin{vmatrix} u_1 & u_2 \\\\\\ u_1\\prime & u_2\\prime \\end{vmatrix} = u_1u_2\\prime - u_1\\prime u_2 \\neq 0 $$\n",
      "\n",
      "To obtain $c_1, c_2$ we integrate."
     ]
    },
    {
     "cell_type": "markdown",
     "metadata": {},
     "source": [
      "### Ex. (Can be done with Undetermine Co-Efficients)\n",
      "$$ y\\prime\\prime - 4y\\prime + 4y = (x+1)e^{2x} $$\n",
      "\n",
      "Using the characteristic equation:\n",
      "$$ m^2 - 4m +4 = (m-2)^2 = 0 $$\n",
      "$$ m_1= m_2 = 2 $$\n",
      "$$ u_1(x) = e^{2x}, u_2(x)= xe^{2x} $$\n",
      "\n",
      "Seeking $y_p(x)=c_1(x)e^{2x}+c_2(x)xe^{2x}$\n",
      "\n",
      "So the Wrauskin:\n",
      "$$ W(e^{2x}, xe^{2x}) = \\begin{vmatrix} e^{2x} & xe^{2x} \\\\\\ 2e^{2x} & 2xe^{2x}+e^{2x} \\end{vmatrix} = e^{4x} $$\n",
      "\n",
      "\n",
      "$$ f(x) = (x+1)e^{2x} $$\n",
      "\n",
      "$$ W_1 = \\begin{vmatrix} 0 & xe^{2x} \\\\\\ (x+1)e^{2x} & 2xe^{2x}+e^{2x} \\end{vmatrix} = -(x+1)xe^{4x} $$\n",
      "$$ W_2 = \\begin{vmatrix} e^{2x} & 0 \\\\\\ 2e^{2x} & (x+1)e^{2x} \\end{vmatrix} = (x+1)e^{4x} $$\n",
      "\n",
      "So,\n",
      "$$ c_1\\prime(x) = - \\frac{(x+1)xe^{4x}}{e^{4x}} = -x^2-x $$\n",
      "$$ c_2\\prime(x) = \\frac{W_2}{W}=\\frac{(x+1)e^{4x}}{e^{4x}} = x+1 $$\n",
      "\n",
      "Now finding $c_1, c_2$... Regarding constants, just choose the simplest (like 0!):\n",
      "$$ c_1(x) = \\frac{1}{3}x^3 - \\frac{1}{2}x^2 $$\n",
      "$$ c_2(x) = \\frac{1}{2}x^2 + x $$\n",
      "Recall that: $y_p(x)=c_1(x)e^{2x}+c_2(x)xe^{2x}$\n",
      "\n",
      "So the **general solution**:\n",
      "$$ y(x) = y_c(x)+y_p(x) = c_1e^{2x} + c_2xe^{2x} + (-\\frac{1}{3}x^3-\\frac{1}{2}x^2)e^{2x}+(\\frac{1}{2}x^2+x)xe^{2x} = c_1e^{2x}+c_2xe^{2x}+\\frac{1}{6}x^3e^{2x}+\\frac{1}{2}x^2e^{2x} $$"
     ]
    },
    {
     "cell_type": "markdown",
     "metadata": {},
     "source": [
      "### Ex. (Cannot be done with Undetermined Coefficients)\n",
      "$$ 4y\\prime\\prime + 36y = \\csc{3x} $$\n",
      "\n",
      "Divide by 4:\n",
      "$$ y\\prime\\prime + 9y = \\frac{1}{4}\\csc{3x} $$\n",
      "\n",
      "So $y_c$ is:\n",
      "$$ m^2 + 9 = 0 $$\n",
      "$$ m_1 = 3i $$\n",
      "$$ m_2 = -3i $$\n",
      "$$ y_c(x) = c_1\\cos{3x} + c_2\\sin{3x} $$\n",
      "\n",
      "Try $y_p$ of the form $ y_p = c_1(x)\\cos{3x} + c_2(x)\\sin{3x} $\n",
      "$$ f(x) = \\frac{1}{4}\\csc{3x} $$\n",
      "\n",
      "Now the Wranskin:\n",
      "$$ W = \\begin{vmatrix} \\cos{3x} & \\sin{3x} \\\\\\ -3\\sin{3x} & 3\\cos{3x} \\end{vmatrix} = 3 $$\n",
      "$$ W_1 = \\begin{vmatrix} 0 & \\sin{3x} \\\\\\ \\frac{1}{4}\\csc{3x} & 3\\cos{3x} \\end{vmatrix} = - \\frac{1}{4} $$\n",
      "$$ W_2 = \\begin{vmatrix} \\cos{3x} & 0 \\\\\\ -3\\sin{3x} & \\frac{1}{4}\\csc{3x} \\end{vmatrix} = \\frac{1}{4}\\cot{3x} $$\n",
      "\n",
      "Finding $c_1\\prime, c_2\\prime$:\n",
      "$$ c_1\\prime = \\frac{W_1}{W} = -\\frac{1}{12} $$\n",
      "$$ c_2\\prime = \\frac{W_2}{W} = \\frac{1}{12}\\cot{3x} $$\n",
      "\n",
      "Getting $c_1, c_2$:\n",
      "$$ c_1(x) = -\\frac{1}{12}x $$\n",
      "$$ c_2(x) = \\frac{1}{36}\\ln{|\\sin{3x}|} $$\n",
      "\n",
      "So the **general solution** is:\n",
      "$$ y(x)=c_1\\cos{3x}+c_2\\sin{3x}-\\frac{1}{12}x\\cos{3x}+\\frac{1}{36}\\sin{3x}\\ln{|\\sin{3x}|} $$\n",
      "**Beware**, since $\\csc{3x}$ is undefined in some areas, we need to stay between $(0,\\frac{\\pi}{3})$ for our interval."
     ]
    },
    {
     "cell_type": "markdown",
     "metadata": {},
     "source": [
      "### Ex. (Cannot integrate $c_1\\prime(x), c_2\\prime(x)$)\n",
      "$$ y\\prime\\prime - y = \\frac{1}{x} $$\n",
      "\n",
      "Note: We're going to be restricted to $ x \\in (0, \\infty) $.\n",
      "\n",
      "Getting $y_c$:\n",
      "$$ m^2-1 = 0 $$\n",
      "$$ m_1=-1, m_2 = 1 $$\n",
      "$$ y_c = c_1e^{-x}+c_2e^{x} $$\n",
      "\n",
      "Checking a $y_p$:\n",
      "$$ y_p(x)=c_1(x)e^{-x}+c_2(x)e^{x} $$\n",
      "\n",
      "Wraunskin:\n",
      "$$ W(e^{-x}, e^{x}) = -2 $$\n",
      "$$ c_1\\prime(x) = \\frac{e^{-x}}{2x} $$\n",
      "$$ c_2\\prime(x) = -\\frac{e^{x}}{2x} $$\n",
      "\n",
      "Integrating to get $c_1, c_2$:\n",
      "$$ c_1(x)=\\frac{1}{2} \\int_{x_0}^{x}{ \\frac{e^{-t}}{t} }dt $$\n",
      "$$ c_2(x)=-\\frac{1}{2} \\int_{x_0}^{x}{ \\frac{e^t}{t} } dt $$\n",
      "**We can't do these nicely.** *We'd have to use a series.*\n",
      "\n",
      "So the **general solution** is:\n",
      "$$ y(x)=y_c(x)=y_p(x)=c_1e^x+c_2e^{-x} + \\frac{1}{2} \\int_{x_0}^{x}{ \\frac{e^{-t}}{t} }dt - \\frac{1}{2} \\int_{x_0}^{x}{ \\frac{e^t}{t} } dt $$"
     ]
    },
    {
     "cell_type": "markdown",
     "metadata": {},
     "source": [
      "# Going to Higher Orders\n",
      "$$ y^{(m)} + P_{m-1}(x)y^{(m-1)} + ... + P_1(x)y\\prime + P(x)y = f(x) $$\n",
      "$$ y_c(x) = c_1u_1(x)+...+c_mu_m(x) $$\n",
      "\n",
      "Seek:\n",
      "$$ y_p(x) = c_1(x)u_1(x)+...+c_m(x)u_m(x) $$\n",
      "\n",
      "In theory, we can do the same thing as with second order!\n",
      "\n",
      "We need to impose conditions though:\n",
      "$$ u_1c_1\\prime + ... + u_mc_m\\prime = 0 $$\n",
      "$$ u_1\\prime c_1\\prime + ... + u_m\\prime c_m\\prime = 0 $$\n",
      "$$ ... $$\n",
      "$$ u_1^{(m-2)}c_1\\prime + ... + u_m^{(m-2)}c_m\\prime = 0 $$\n",
      "$$ u_1^{(m-1)}c_1\\prime + ... + u_m^{(m-1)}c_m\\prime = f(x) $$\n",
      "\n",
      "$$c_1\\prime = \\frac{W_1}{W}, ..., c_n\\prime = \\frac{W_m}{W} $$\n",
      "Replacing the ith column of the wraskin with $\\begin{vmatrix} 0 \\\\\\ ... \\\\\\ 0 \\\\\\ f(x) \\end{vmatrix} $"
     ]
    },
    {
     "cell_type": "markdown",
     "metadata": {},
     "source": [
      "### Ex. (Higher Order)\n",
      "$$ y\\prime\\prime\\prime + P_2(x)y\\prime\\prime + P_1(x)y\\prime + P_0(x)y = f(x) $$\n",
      "$$ c_1\\prime = \\frac{W_1}{W}, c_2\\prime= \\frac{W_2}{W}, c_3\\prime = \\frac{W_3}{W} $$\n",
      "\n",
      "$$ W = \\begin{vmatrix} u_1 & u_2 & u_3 \\\\\\ u_1\\prime & u_2\\prime & u_3\\prime \\\\\\ u_1\\prime\\prime & u_2\\prime\\prime & u_3\\prime\\prime \\end{vmatrix} $$\n",
      "$$ W_1 = \\begin{vmatrix} 0 & 0 & f(x) \\\\\\ u_1\\prime & u_2\\prime & u_3\\prime \\\\\\ u_1\\prime\\prime & u_2\\prime\\prime & u_3\\prime\\prime \\end{vmatrix} $$\n",
      "$$ W_2 = \\begin{vmatrix} u_1 & u_2 & u_3 \\\\\\ 0 & 0 & f(x) \\\\\\ u_1\\prime\\prime & u_2\\prime\\prime & u_3\\prime\\prime \\end{vmatrix} $$\n",
      "..."
     ]
    },
    {
     "cell_type": "markdown",
     "metadata": {},
     "source": [
      "# Homework\n",
      "p 161-162"
     ]
    },
    {
     "cell_type": "code",
     "collapsed": false,
     "input": [],
     "language": "python",
     "metadata": {},
     "outputs": []
    }
   ],
   "metadata": {}
  }
 ]
}