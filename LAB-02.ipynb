{
 "metadata": {
  "name": "LAB-02"
 },
 "nbformat": 3,
 "nbformat_minor": 0,
 "worksheets": [
  {
   "cells": [
    {
     "cell_type": "markdown",
     "metadata": {},
     "source": [
      "# Lab 02 - Math 201\n",
      "### Seth Chart"
     ]
    },
    {
     "cell_type": "code",
     "collapsed": false,
     "input": [
      "from sympy import *\n",
      "%load_ext sympyprinting\n",
      "\n",
      "x = Symbol(\"x\")\n",
      "x+pi"
     ],
     "language": "python",
     "metadata": {},
     "outputs": [
      {
       "latex": [
        "$$x + \\pi$$"
       ],
       "output_type": "pyout",
       "png": "[encoded data removed]",
       "prompt_number": 12,
       "text": [
        "x + \u03c0"
       ]
      }
     ],
     "prompt_number": 12
    },
    {
     "cell_type": "markdown",
     "metadata": {},
     "source": [
      "## What is a linear differential equation?\n",
      "### Definition\n",
      "A first order differential equation is linear.\n",
      "If\n",
      "$$ \\frac{dx}{dt} = M(t)X+b(t) $$\n",
      "\n",
      "If we fix $t$ we get a linear plot. However the parameters of this linear plot may change over time (eg Slope, intercepts)"
     ]
    },
    {
     "cell_type": "markdown",
     "metadata": {},
     "source": [
      "### Examples\n",
      "Which of these are linear differential equations?\n",
      "\n",
      "**Ex.**\n",
      "$$ x\\prime = 2x+1 $$\n",
      "This is linear.\n",
      "\n",
      "**Ex.**\n",
      "$$ x\\prime = t^2x+e^t $$\n",
      "This is linear.\n",
      "\n",
      "**Ex.**\n",
      "$$ x\\prime = x(t+x) $$\n",
      "This is **not** linear.\n",
      "\n",
      "**Ex.**\n",
      "$$ x\\prime = \\frac{x^2 +2xt+t^2}{x+t} $$\n",
      "This is linear. (Note how the top factors and cancels.)\n",
      "\n",
      "**Ex.**\n",
      "$$ x=\\ln{x^t} $$\n",
      "This is **not** linear.\n",
      "\n",
      "**Ex.**\n",
      "$$ x\\prime = \\ln{t^x} $$\n",
      "This is linear. (Note how the $x$ pops out.)"
     ]
    },
    {
     "cell_type": "markdown",
     "metadata": {},
     "source": [
      "# How to Solve a Linear DE\n",
      "$$ x\\prime = M(t)x+b(t) $$\n",
      "\n",
      "1. Solve the homogeneous part first.\n",
      "    $$ x\\prime = M(t)x $$\n",
      "    **Q:** What does this look like?\n",
      "\n",
      "    **A:** Seperable, we can use the tools we had last time.\n",
      "    $$ \\frac{dx}{dt}=M(t)x \\Rightarrow \\int{\\frac{dx}{x}} = \\int{M(t)dt} = N(t) $$\n",
      "    $$ x=Ce^{N(t)} $$\n",
      "2. Now, the **weird trick** of Differential Equations.\n",
      "    \n",
      "    Let $C$ depend on $t$\n",
      "    $$ x = C(t)e^{N(t)} $$\n",
      "    $$ C(t)e^{N(t)} $$\n",
      "    Is a solution to\n",
      "    $$ x\\prime = M(t)X+b(t) $$"
     ]
    },
    {
     "cell_type": "markdown",
     "metadata": {},
     "source": [
      "### Q:\n",
      "If we have $ x = C(t)e^{N(t)} $\n",
      "\n",
      "and $ x\\prime = M(t)x+b(t) $ \n",
      "    \n",
      "Solve for $C(t)$.\n",
      "\n",
      "Using the product rule:\n",
      "$$ x\\prime = C(t)e^{N(t)}N\\prime(t)+C\\prime(t)e^{N(t)} $$\n",
      "\n",
      "Since $ N\\prime(t)=M(t) $ \n",
      "\n",
      "and $ C(t)e^{N(t)}=x $\n",
      "\n",
      "$$ x\\prime = C(t)e^{N(t)}M(t)+C\\prime(t)e^{N(t)} = M(t)x+b(t) $$\n",
      "\n",
      "Giving us\n",
      "$$ C\\prime(t)e^{N(t)} = b(t) $$\n",
      "$$ C\\prime(t)= b(t)e^{-N(t)} $$\n",
      "\n",
      "**This is an important step we should remember and use:**\n",
      "$$ C(t) = \\int{b(t)e^{N(t)} dt} $$"
     ]
    },
    {
     "cell_type": "markdown",
     "metadata": {},
     "source": [
      "## Ex. Find a Solution to\n",
      "$$ x\\prime = 2tx+e^{t^2} $$\n",
      "\n",
      "(( Solution is ))\n",
      "$$ x= (t+k)e^{t^2} $$\n",
      "\n",
      "Steps:\n",
      "\n",
      "1. Solve \n",
      "    $$ x\\prime = 2tx $$\n",
      "    $$ \\int{\\frac{dx}{x}} = \\int{2tdt} \\Rightarrow x=ce^{t^2} $$\n",
      "2. Let $C$ depend on $t$... Assuming a solution of the form\n",
      "    $$ X = C(t)e^{t^2} $$\n",
      "    $$ X\\prime = C(t)e^{t^2}2t +C\\prime(t)e^{t^2} $$\n",
      "    This whole thing has to equal\n",
      "    $$ = 2tx + e^{t^2} $$\n",
      "\n",
      "    $$ C\\prime(t)e^t = e^{t^2} $$\n",
      "    So $C\\prime(t) = 1$\n",
      "    $$ C(t) = \\int{dt} = t+K $$\n",
      "\n",
      "    Finally...\n",
      "    $$ X = C(t)e^{t^2}=(t+k)e^{t^2} $$"
     ]
    },
    {
     "cell_type": "markdown",
     "metadata": {},
     "source": [
      "## Ex.\n",
      "$$ x\\prime = (x+1)\\cos{t} $$\n",
      "\n",
      "1. Solve\n",
      "    $$ x\\prime = x\\cos{t} + \\cos{t} $$\n",
      "    Getting only the homogeneous equation:\n",
      "    $$ \\int{\\frac{dx}{x}} = \\int{\\cos{t}} $$\n",
      "    $$ \\ln{x} = -\\sin{t} + K $$\n",
      "    $$ x = e^{\\sin{t}} $$\n",
      "2. $$ C\\prime(t) = \\cos{t}e^{-\\sin{t}} $$\n",
      "    $$ C(t)=-e^{\\sin{t}} + k $$"
     ]
    },
    {
     "cell_type": "code",
     "collapsed": false,
     "input": [],
     "language": "python",
     "metadata": {},
     "outputs": []
    }
   ],
   "metadata": {}
  }
 ]
}