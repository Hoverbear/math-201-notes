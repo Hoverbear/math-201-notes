{
 "metadata": {
  "name": "LAB-03"
 },
 "nbformat": 3,
 "nbformat_minor": 0,
 "worksheets": [
  {
   "cells": [
    {
     "cell_type": "markdown",
     "metadata": {},
     "source": [
      "# Lab 03 - Math 201\n",
      "### Seth Chart (schart@uvic.ca)"
     ]
    },
    {
     "cell_type": "code",
     "collapsed": false,
     "input": [
      "from sympy import *\n",
      "%load_ext sympyprinting\n",
      "\n",
      "x = Symbol(\"x\")\n",
      "x+pi"
     ],
     "language": "python",
     "metadata": {},
     "outputs": [
      {
       "latex": [
        "$$x + \\pi$$"
       ],
       "output_type": "pyout",
       "png": "[encoded data removed]",
       "prompt_number": 1,
       "text": [
        "x + \u03c0"
       ]
      }
     ],
     "prompt_number": 1
    },
    {
     "cell_type": "markdown",
     "metadata": {},
     "source": [
      "## 1st Order Linear Differential Equations\n",
      "$$ \\frac{dy}{dx}=M(x)y+b(x) $$"
     ]
    },
    {
     "cell_type": "markdown",
     "metadata": {},
     "source": [
      "## Higher Order Differential Equations\n",
      "$$ A_n(t)\\frac{d^ny}{dt^n}+A_{n-1}(t)\\frac{d^{n-1}y}{dt^{n-1}}+...+A_1(t)\\frac{dy}{dt}+A_0(t)y = g(t) $$\n",
      "\n",
      "I and II are higher order linear differential equations.\n",
      "\n",
      "1. $$ y\\prime\\prime = ty+e^t \\Rightarrow y\\prime\\prime - ty = e^t $$\n",
      "2. $$ y\\prime\\prime + y\\prime \\ln(t) + \\frac{y}{1-y^2} = \\tan(t) $$\n",
      "3. $$ e^y = y\\prime\\prime(t) $$\n",
      "\n",
      "If $g(t)=0$ the DE is homogenious.\n",
      "\n",
      "### If $F(t)$ and $g(t)$ are functions and $c$ is a constant, find:\n",
      "\n",
      "$$ \\frac{d}{dt}(F(t)+g(t)) = f\\prime(t) + g\\prime(t) $$\n",
      "$$ \\frac{d}{dt}(c F(t)) = c f\\prime(t) $$\n",
      "$$ \\frac{d^2}{dt}(c F(t)+g(t)) = \\frac{d}{dt}(c f\\prime(t) + g\\prime(t)) = c f\\prime\\prime(t) + g\\prime(t) $$ \n",
      "$$ (\\frac{d^2}{dt}-\\frac{d}{dt})(F(t)+g(t)) $$"
     ]
    },
    {
     "cell_type": "markdown",
     "metadata": {},
     "source": [
      "## Relation to Matrices\n",
      "We can think of\n",
      "$$ A_n(t)\\frac{d^ny}{dt^n}+A_{n-1}(t)\\frac{d^{n-1}y}{dt^{n-1}}+...+A_1(t)\\frac{dy}{dt}+A_0(t)y = 0 $$\n",
      "As\n",
      "$$ (A_n(t)\\frac{d^n}{dt^n}+A_{n-1}(t)\\frac{d^{n-1}}{dt^{n-1}}+...+A_1(t)\\frac{d}{dt}+A_0(t))*(y) = g(t) $$\n",
      "Where the left hand side is a matrix, and the right hand side is a vector.\n",
      "\n",
      "If $ y=F(t) $ and $ y=g(t) $ are solutions to the above then\n",
      "$$ y=A F(t) + B g(t) $$ \n",
      "is also.\n",
      "\n",
      "### Ex.\n",
      "$ y\\prime\\prime - y = 0 $,  check that $ y=e^x $ and $ y=e^{-x} $ are solutions and find a solution so that\n",
      "\n",
      "$ y(0)=0 $ and $ y\\prime(0)=1 $\n",
      "\n",
      "**Solution:**\n",
      "\n",
      "Check\n",
      "\n",
      "1. $$ y=e^x \\rightarrow y\\prime\\prime = e^x $$\n",
      "2. $$ y=e^{-x} \\rightarrow y\\prime\\prime = (-1)(-1)e^{-x}=e^{-x} $$\n",
      "\n",
      "Try $ y=Ae^{x}+Be^{-x} $.\n",
      "$$ y(0)= A + B \\rightarrow A=-B$$\n",
      "$$ y\\prime(x)=Ae^x + Be^{-x} $$\n",
      "$$ y\\prime(0)=A-B = 1 $$\n",
      "$$ A+A=1 \\rightarrow A=\\frac{1}{2} \\rightarrow B=\\frac{1}{2} $$\n",
      "\n",
      "So a solution is\n",
      "$$ y = \\frac{1}{2}e^x - \\frac{1}{2}e^{-x} $$"
     ]
    },
    {
     "cell_type": "markdown",
     "metadata": {},
     "source": [
      "### Ex.\n",
      "$$ y\\prime\\prime - 3y\\prime-4y =0$$\n",
      "$$ y=e^{4x}, y=e^{-x} $$\n",
      "\n",
      "When $y(0)=1, y\\prime(0)=2$.\n",
      "\n",
      "Checking solution:\n",
      "$$ y=e^{4x}, y\\prime=4e^{4x}, y\\prime\\prime=16e^{4x} $$\n",
      "$$ 16-3(4)-4(1)e^{4x} = 0e^{4x} $$\n",
      "\n",
      "Try:\n",
      "$$ y=Ae^{4x}+Be^{-x} $$\n",
      "$$ y\\prime = 4Ae^{4x}-Be^{-x} $$\n",
      "Plug in $x=0$:\n",
      "$$ y(0)=1 \\rightarrow A+B=1 $$\n",
      "$$ y\\prime(0)=2 \\rightarrow 4A-B=2 $$"
     ]
    },
    {
     "cell_type": "code",
     "collapsed": false,
     "input": [],
     "language": "python",
     "metadata": {},
     "outputs": []
    }
   ],
   "metadata": {}
  }
 ]
}