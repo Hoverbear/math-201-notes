{
 "metadata": {
  "name": "LAB-05"
 },
 "nbformat": 3,
 "nbformat_minor": 0,
 "worksheets": [
  {
   "cells": [
    {
     "cell_type": "markdown",
     "metadata": {},
     "source": [
      "# Lab 05 - Math 201\n",
      "### Seth Chart"
     ]
    },
    {
     "cell_type": "code",
     "collapsed": false,
     "input": [
      "from sympy import *\n",
      "%load_ext sympyprinting\n",
      "\n",
      "x = Symbol(\"x\")\n",
      "x+pi"
     ],
     "language": "python",
     "metadata": {},
     "outputs": [
      {
       "latex": [
        "$$x + \\pi$$"
       ],
       "output_type": "pyout",
       "png": "[encoded data removed]",
       "prompt_number": 12,
       "text": [
        "x + \u03c0"
       ]
      }
     ],
     "prompt_number": 12
    },
    {
     "cell_type": "markdown",
     "metadata": {},
     "source": [
      "## More Linear Differential Equations with constant coefficients\n",
      "\n",
      "$$ a_n y^{(n)}+...+a_1 y\\prime + a_0 y = g(x) $$\n",
      "$ a_k $ are constants.\n",
      "\n",
      "The trick here has to do with:\n",
      "\n",
      "If we look at $ y=e^{mx} $:\n",
      "$$ y\\prime = me^{mx} $$\n",
      "$$ y\\prime\\prime = m^2 e^{mx} $$\n",
      "\n",
      "If we look at the homogeneous part of the equation ($g(x)=0$):\n",
      "$$ a_n y^{(n)}+...+a_1 y\\prime + a_0 y = 0 $$\n",
      "\n",
      "We can sometimes **guess** a solution of this form $y=e^{mx}$\n",
      "\n",
      "**Why?**\n",
      "\n",
      "Want $y^{(n)}, ..., y\\prime, y$ to be linearly dependant.\n",
      "\n",
      "$ y=e^{mx} $ works **well**.\n",
      "\n",
      "**Ex.**\n",
      "$$ 2y^\\prime + y = 0 $$\n",
      "Try $y=e^{mx}$\n",
      "\n",
      "$$ 2me^{mx}+e^{mx} = 0 $$\n",
      "$$ e^{mx}(2m+1)=0 $$\n",
      "So, $2m+1 = 0$\n",
      "$$ m= \\frac{-1}{2} $$\n",
      "\n",
      "So our **solution** is\n",
      "$$ y=ce^{\\frac{-1}{2}} $$\n"
     ]
    },
    {
     "cell_type": "markdown",
     "metadata": {},
     "source": [
      "### More Examples\n",
      "\n",
      "**Ex.**\n",
      "$$ y\\prime\\prime - y = 0 $$\n",
      "Looking for $y=e^{mx}$:\n",
      "$$ m^2 e^{mx} - e^{mx} = 0 $$\n",
      "$$ e^{mx}(m^2-1)=0 $$\n",
      "Since $e^{mx}$ can't equal 0:\n",
      "$$ m^2-1 = 0 $$\n",
      "$$ m = \\pm 1 $$\n",
      "\n",
      "So,\n",
      "$$ y=c_1e^x + c_2e^{-x} $$\n",
      "\n",
      "**Ex.**\n",
      "$$ y\\prime\\prime - y\\prime - 2y = 0 $$\n",
      "$$ (m^2 - m - 1)e^{mx} = 0 $$\n",
      "$$ m = 2, -1 $$\n",
      "\n",
      "So,\n",
      "$$ c_1e^{-x}+c_2e^{2x} $$\n",
      "\n",
      "### Q: Does this method apply to?\n",
      "$$ y^{(3)} + 3xy = 0 $$\n",
      "\n",
      "No, the $x$ bunks it up.\n",
      "\n",
      "**Ex.**\n",
      "$$ y\\prime\\prime - 2y\\prime + y = 0 $$\n",
      "$$ (m^2-2m+1)e^{mx} = 0 $$\n",
      "$$ (m-1)^2 = 0 $$\n",
      "\n",
      "Note that $$ m=1 $$ is a repeated root.\n",
      "\n",
      "So we only get $y=e^x$, so we can tack on an $x$ and get $y=xe^x$\n",
      "\n",
      "Which results in\n",
      "$$ y= c_1e^x+c_2xe^x $$"
     ]
    },
    {
     "cell_type": "markdown",
     "metadata": {},
     "source": [
      "## Non-homogeneous\n",
      "\n",
      "Now solve\n",
      "$$ a_ny^{(n)} + ... + a_1 y\\prime + a_0 y = g(x) $$\n",
      "For $g(x)$, polynomial, exponential, sin/cos, sums, and products of above.\n",
      "\n",
      "Acceptable:\n",
      "\n",
      "* $e^x$\n",
      "* $(x^2+2x+1)e^{3x}$\n",
      "* $x\\cos{2x}-e^3x$\n",
      "\n",
      "Not Acceptable:\n",
      "\n",
      "* $ e^{\\sin{x}} $\n",
      "* $ \\frac{\\sin{x}+e^x}{\\cos{x}} $\n",
      "* $ x^2 + e^x + \\tan{x} $\n",
      "\n",
      "Recall that, in general, we have:\n",
      "$$ a_ny^{(n)} + ... + a_1 y\\prime + a_0 y = g(x) $$\n",
      "We can find a $y_c$ that satisfies homogenous.\n",
      "\n",
      "We also need a $y_p$, so that $ y = y_c + y_p $. We'll use a guessing method.\n",
      "\n",
      "**Ex.**\n",
      "$$ y\\prime\\prime - 2y = x^2 + 1 $$\n",
      "Guess a $y_p$.\n",
      "$$ y_p\\prime\\prime - 2y_p = x^2 + 1 $$\n",
      "\n",
      "Try $y_p = Ax^2 + Bx + C$\n",
      "\n",
      "$$ y_p\\prime\\prime -2y_p = 2A-2(Ax^2+Bx+C) = x^2 + 1 $$\n",
      "$$ -2Ax^2-2Bx+(2A-2C) = x^2 + 1 $$\n",
      "\n",
      "So we know that:\n",
      "\n",
      "* $ -2A = 1$\n",
      "* $ -2B = 0$\n",
      "* $ 2A-2C = 1$\n",
      "\n",
      "$$ y_p = \\frac{-1}{2}x^2 - 1 $$\n",
      "\n",
      "**Ex.**\n",
      "$$ y\\prime\\prime - 5y\\prime + 4y = 6x^2 + x - 1 $$\n",
      "\n",
      "\n",
      "**Ex.**\n",
      "$$ y\\prime\\prime - 5y\\prime + 4y = 4e^x $$\n",
      "$$y_c = c_1e^x + c_2e^4x$$\n",
      "\n",
      "Guessing a $y_p$\n",
      "$$ y_p = Ae^x $$\n",
      "However this is **already in the solution** So we'll tack on an $x$\n",
      "$$ y_p = Axe^{x} $$\n",
      "$$ A^2e^x - 5Ae^x + 4xe^x = 4e^x $$\n",
      "\n",
      "Which gives us $ A = \\frac{-4}{3} $\n",
      "\n",
      "**Ex.**\n",
      "$$ y\\prime\\prime - 5y\\prime + 4y = x^2 + x\\sin{x} $$\n",
      "\n",
      "Guessing $y_p$: (Note how we have the sin/cos since we need to include the derivative)\n",
      "$$ y_p = Ax^2 + Bx + C + (Dx+E)\\sin{x}+ (Fx+G)\\cos{x} $$\n"
     ]
    },
    {
     "cell_type": "code",
     "collapsed": false,
     "input": [],
     "language": "python",
     "metadata": {},
     "outputs": []
    }
   ],
   "metadata": {}
  }
 ]
}