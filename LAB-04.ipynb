{
 "metadata": {
  "name": "LAB-04"
 },
 "nbformat": 3,
 "nbformat_minor": 0,
 "worksheets": [
  {
   "cells": [
    {
     "cell_type": "markdown",
     "metadata": {},
     "source": [
      "# Lab 4 - Math 201\n",
      "### (Not Seth)"
     ]
    },
    {
     "cell_type": "code",
     "collapsed": false,
     "input": [
      "from sympy import *\n",
      "%load_ext sympyprinting\n",
      "\n",
      "x = Symbol(\"x\")\n",
      "x+pi"
     ],
     "language": "python",
     "metadata": {},
     "outputs": [
      {
       "latex": [
        "$$x + \\pi$$"
       ],
       "output_type": "pyout",
       "png": "[encoded data removed]",
       "prompt_number": 1,
       "text": [
        "x + \u03c0"
       ]
      }
     ],
     "prompt_number": 1
    },
    {
     "cell_type": "markdown",
     "metadata": {},
     "source": [
      "## Higher Order Differential Equations\n",
      "### Q: Are the following equations linear? Homogeneous?\n",
      "\n",
      "1. $$ y\\prime\\prime + x^2y = 0 $$\n",
      "    This is linear and homogenous.\n",
      "2. $$ y\\prime\\prime - \\cos{x} = y $$\n",
      "    This is linear, not homogenous (Because the x function is by itself).\n",
      "3. $$ y\\prime\\prime - y^2 +2 = x $$\n",
      "    This is not linear (the $y^2$).\n",
      "4. $$ y\\prime\\prime\\prime = 30 $$\n",
      "    This is linear. (The y is to the first power) This is not homogenous (The 30 is alone, no $y$s in it).\n",
      "5. $$ \\sin{y\\prime\\prime\\prime} = 30 $$\n",
      "    This is not linear.\n",
      "    $$ y\\prime\\prime\\prime = \\sin^{-1}{30} $$\n",
      "    This is linear.\n",
      "6. $$ \\cos{x}y\\prime\\prime - 58y\\prime +xy = 0 $$\n",
      "    This is linear, homogenous.\n",
      "7. $$ yy\\prime\\prime = 2 $$\n",
      "    This is not linear."
     ]
    },
    {
     "cell_type": "markdown",
     "metadata": {},
     "source": [
      "## Linear Independence\n",
      "### Linearly Dependant\n",
      "$ f_1(x),...,f_n(x) $ defined on an interval $I$\n",
      "\n",
      "There are $c_1, ..., c_n$ not all zero, such that $c_1f_1(x)+...c_nf_n(x)=0$ for all $x$ in $I$.\n",
      "\n",
      "### Q: Are the following sets of functions linearly independant?\n",
      "\n",
      "1. $ 1,x,...,x^n $ on $(0,1)$\n",
      "\n",
      "    For $ 1,x,...,x^n $ if $c_0 +c_1 x+c_2 x^2+...+c_n x^n = 0$ for each $x$ on $(0,1)$ then $c_0=0, c_1=0, ..., c_n=0$.\n",
      "    \n",
      "    So this set is linearly independant.\n",
      "2. $ \\cos{x}, \\sin{x} $ on $(-\\infty, \\infty)$\n",
      "\n",
      "    These are linearly independant.\n",
      "\n",
      "    $c_1\\cos{x}+c_2\\sin{x} \\neq 0$ unless $c_1, c_2 = 0$\n",
      "3. $ \\cos^2{x}, \\sin^2{x}, 1 $ on $(-\\infty, \\infty)$\n",
      "\n",
      "    These are linearly independant because of the identity.\n",
      "\n",
      "    Ex.\n",
      "    $$ 1*\\cos^2{x}+1*\\sin^2{x}+(-1)(1)=0 $$\n",
      "4. $ e^x, e^{-x} $ on $(0,1)$ \n",
      "\n",
      "    Suppose $c_1e^x+c_2e^{-x} =0$ for $x$ in $(0,1)$\n",
      "    \n",
      "    $$c_1e^x(1+\\frac{c_2}{c_1}e^{-2x})=0$$\n",
      "\n",
      "### Fundamental Sets\n",
      "For a linear equation (homogenous), want independent sets of solutions.\n",
      "\n",
      "1. Check that $y=x^2$ and $y=x^{-3}$ form a fundamental set of solutions to $x^2y\\prime\\prime+2xy\\prime-by=0$\n",
      "\n",
      "**Steps**:\n",
      "\n",
      "1. Verify independence.\n",
      "2. Check they are solutions.\n",
      "\n",
      "These two functions are independent because $x^2$ is a not multiple of $x^{-3}$\n",
      "\n",
      "Solutions?\n",
      "$$ y_1=x^2 $$\n",
      "$$ y_1\\prime = 2x $$\n",
      "$$ y_1\\prime\\prime = 2 $$\n",
      "\n",
      "$$ x^2(2)+2x(2x)-6x^2 = x^2[2+4-6]=0 $$\n",
      "\n",
      "$$ y_2 = x^{-3} $$\n",
      "$$ y_2\\prime = -3x^{-4} $$\n",
      "$$ y_2\\prime\\prime = 12x^{-5} $$\n",
      "\n",
      "$$ x^2(12x^{-5})+2x(-3x^{-4})-6x^{-3} = x^{-3}(12-6-6) = 0 $$"
     ]
    },
    {
     "cell_type": "code",
     "collapsed": false,
     "input": [],
     "language": "python",
     "metadata": {},
     "outputs": []
    }
   ],
   "metadata": {}
  }
 ]
}