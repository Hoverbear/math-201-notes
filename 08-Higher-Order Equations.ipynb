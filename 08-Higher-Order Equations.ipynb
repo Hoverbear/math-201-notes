{
 "metadata": {
  "name": "08-Higher-Order Equations"
 },
 "nbformat": 3,
 "nbformat_minor": 0,
 "worksheets": [
  {
   "cells": [
    {
     "cell_type": "markdown",
     "metadata": {},
     "source": [
      "# 4.3 Higher Order Equations - Math 201\n",
      "### Dr. Florin Diacu (http://www.math.uvic.ca/faculty/diacu/)"
     ]
    },
    {
     "cell_type": "code",
     "collapsed": false,
     "input": [
      "from sympy import *\n",
      "%load_ext sympyprinting\n",
      "\n",
      "x = Symbol(\"x\")\n",
      "x+pi"
     ],
     "language": "python",
     "metadata": {},
     "outputs": [
      {
       "latex": [
        "$$x + \\pi$$"
       ],
       "output_type": "pyout",
       "png": "[encoded data removed]",
       "prompt_number": 1,
       "text": [
        "x + \u03c0"
       ]
      }
     ],
     "prompt_number": 1
    },
    {
     "cell_type": "markdown",
     "metadata": {},
     "source": [
      "## Characteristic Equation:\n",
      "$$ a_n m^n + a_{n-1} m^{n-1} + ... + a_1 m + a_0 = 0 $$\n",
      "\n",
      "If there are $n$ real distinct solutions of the characteristic equation $m_1, m_2, ..., m_m \\in \\mathbb{R}$ then the **general solution** is:\n",
      "$$y(x)=c_1e^{m_1x} + c_2e^{m_2x} +...+c_ne^{m_nx} $$\n",
      "\n",
      "If $m_1$ is a root of multiplicity $k$, $k \\leq m $, then the correspodning solutions of the homogeneous equation are:\n",
      "$$ e^{m_1x}, xe^{m_1x}, x^2e^{m_1x}, ..., x^{k-1}e^{m_1x} $$\n",
      "\n",
      "So, the general solution must contain the linear combination:\n",
      "$$ c_1e^{m_1x} + c_2xm^{m_1x} + c_3 x^2 e^{m_1x} + ... + c_kx^{k-1}e^{m_1x} $$\n",
      "\n",
      "### Ex. Real Roots\n",
      "\n",
      "$$ y\\prime\\prime\\prime + 3y\\prime\\prime - 4y = 0 $$\n",
      "$$ m^3 + 3m^2-4 = 0 $$\n",
      "\n",
      "$ m_1 = 1$ is a root.\n",
      "\n",
      "Divide $m^3+3m^2-4$ by $m-1$ and obtain $m^2+4m+4 = (m+2)^2$\n",
      "$$ m^3+3m^2-4=(m-1)(m+2)^2$$\n",
      "$$ m_1 = 1, m_2m_3=-2$$\n",
      "\n",
      "General Solution:\n",
      "$$ y(x)=c_1e^x+c_2e^{-2x}+c_3xe^{-2x} $$\n",
      "\n",
      "### Ex. \n",
      "$$ y^{(4)} + 2y\\prime\\prime+y = 0 $$\n",
      "$$ m^4+2m^2+1 = 0 $$\n",
      "$$ (m^2+1)^2 = 0 $$\n",
      "$$ m_1=m_2=i $$\n",
      "$$ m_3=m_4= -i $$\n",
      "\n",
      "$$ y(x)=c_1e^{ix}+c_2xe^{ix}+c_3e^{-ix}+c_4xe^{-ix} $$\n",
      "\n",
      "Using Eulers Formula and obtain\n",
      "$$ y(x)=k_1\\cos{x}+k_2\\cos{x}+k_3\\sin{x}+k_4x\\sin{x} $$"
     ]
    },
    {
     "cell_type": "markdown",
     "metadata": {},
     "source": [
      "\n",
      "## In general\n",
      "If $m_1= \\alpha+i\\beta, \\beta > 0$ is a complex root of multiplicity $k$ then the following solutions exist:\n",
      "$$ e^{\\alpha x}\\cos{\\beta x}, xe^{\\alpha x}\\cos{\\beta x}, ..., x^{k-1}e^{\\alpha x}\\cos{\\beta x} $$\n",
      "$$ e^{\\alpha x}\\sin{\\beta x}, xe^{\\alpha x}\\sin{\\beta x}, ..., x^{k-1}e^{\\alpha x}\\sin{\\beta x} $$\n",
      "\n",
      "### Ex.\n",
      "The characteristic equation has the roots\n",
      "$$ m_1 = -1, m_2=2+i, m_3=2-i $$\n",
      "$$ m_4=m_5=m_6 = \\pi , m_7=m_8=3i $$\n",
      "$$ m_9=m_{10}=-3i $$\n",
      "\n",
      "The general solution is\n",
      "$$ y(x) = c_1e^{-x}+c_2e^{2x}\\cos{x}+c_3e^{2x}\\sin{x}+c_4e^{\\pi x}+c_5xe^{\\pi x}+c_6x^2e^{\\pi x} + c_7\\cos{3x}+c_8x\\cos{3x}+c_9\\sin{3x}+c_{10}x\\sin{3x} $$\n",
      "\n",
      "..\n",
      "\n",
      "If the characteristic equation $ a_nm^n+a_{n-1}m^{n-1}+a_1m+a_0=0 $ has a rational root $m_1= \\frac{p}{q}$ and $a_0, a_1, ..., a_n$ are integers, then $p$ is a factor of $a_0$ and $q$ is a factor of $a_m$.\n",
      "\n",
      "### Ex.\n",
      "$$ 3m^3 + 5m^2+10m-4=0 $$\n",
      "$ a_0 = -4 $ : Factors : $ \\pm 1, \\pm 2, \\pm 4 $\n",
      "\n",
      "$ a_n = 3 $ : Factors : $ \\pm 1, \\pm 3 $\n",
      "\n",
      "So the potential rational roots\n",
      "\n",
      "$ \\frac{p}{q} $ : $ \\pm 1, \\pm 2, \\pm 4, \\pm \\frac{1}{3}, \\pm \\frac{2}{3}, \\pm \\frac{4}{3} $\n",
      "\n",
      "Check: Find that $m_1 = \\frac{1}{3}$ is the only root among the potential rational roots.\n",
      "\n",
      "$$ 3m^3+5m^2+10m-4=(m-\\frac{1}{3})(3m^2+6m+12)=(3m-1)(m^2+2m+4) $$\n",
      "Roots\n",
      "$$m_2 = -1 + \\sqrt{3}i $$\n",
      "$$m_3 = -1 - \\sqrt{3}i $$\n",
      "\n",
      "The general solution of the equation:\n",
      "\n",
      "$ 3y\\prime\\prime\\prime + 5y\\prime\\prime + 10y\\prime - 4y = 0 $ **is** $ y(x)=c_1e^{\\frac{x}{3}}+c_2e^{-x}\\cos{\\sqrt{3}x}+c_3e^{-x}\\sin{\\sqrt{3}x} $\n"
     ]
    },
    {
     "cell_type": "markdown",
     "metadata": {},
     "source": [
      "## Homework\n",
      "Pg. 137-139"
     ]
    },
    {
     "cell_type": "markdown",
     "metadata": {},
     "source": []
    }
   ],
   "metadata": {}
  }
 ]
}