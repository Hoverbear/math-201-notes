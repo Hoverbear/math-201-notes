{
 "metadata": {
  "name": "LAB-09"
 },
 "nbformat": 3,
 "nbformat_minor": 0,
 "worksheets": [
  {
   "cells": [
    {
     "cell_type": "markdown",
     "metadata": {},
     "source": [
      "# Lab 09 - Math 201\n",
      "### Seth Chart"
     ]
    },
    {
     "cell_type": "markdown",
     "metadata": {},
     "source": [
      "## Solve with a Series Solution\n",
      "\n",
      "$$ 3xy\\prime\\prime + y\\prime - y = 0 $$\n",
      "\n",
      "Standard Form:\n",
      "$$ y\\prime\\prime + \\frac{1}{3x}y\\prime - \\frac{1}{3x}y=0 $$\n",
      "\n",
      "Singular Solution at $x=0$ since $\\frac{1}{3x}$ is undefined there.\n",
      "\n",
      "Since $P(x)=\\frac{1}{3x}=Q(x)$ have $x$ in denominator, $x=0$ is a regular singular solution.\n",
      "\n",
      "Try $ y = \\sum_{n=0}^{\\infty}{ C_nx^{n+r} } $\n",
      "\n",
      "$$ y = \\sum_{n=0}^{\\infty}{ C_nx^{n+r} } $$\n",
      "$$ y\\prime = \\sum_{n=0}^{\\infty}{ C_n(n+r)x^{n+r-1} } $$\n",
      "$$ y\\prime\\prime = \\sum_{n=0}^{\\infty}{ C_n(n+r)(n+r-1)x^{n+r-2} } $$\n",
      "\n",
      "$$ 3xy\\prime\\prime + y\\prime - y = 0 $$\n",
      "$$  \\sum_{n=0}^{\\infty}{ 3C_n(n+r)(n+r-1)x^{n+r-2} } + \\sum_{n=0}^{\\infty}{ C_n(n+r)x^{n+r-1} } + \\sum_{n=0}^{\\infty}{ -C_nx^{n+r} } $$\n",
      "\n",
      "We'll make a $k=n-1$ for the first 2 terms, $k=n$ for the last term.\n",
      "\n",
      "$$ 3xy\\prime\\prime + y\\prime - y = x^r[ \\sum_{k=-1}^{\\infty}{ 3C_{k+1}(k+1+r)(k+r)x^k } + \\sum_{k=-1}^{\\infty}{ C_{k+1}(k+1+r)x^k } + \\sum_{k=0}^{\\infty}{ -c_kx^k } ] $$\n",
      "\n",
      "So, notice how they are all $x^k$ based. So we can regroup. But first we need to pull off the first term of the first two.\n",
      "$$ 3xy\\prime\\prime + y\\prime - y = x^r[ 3C_0(r)(r-1)x^{-1} + C_0rx^{-1} + \\sum_{k=0}^{\\infty}{ (3C_{k+1}(k+1+r)(k+r)+ C_{k+1}(k+1+r)-C_k)x^k }] $$\n",
      "\n",
      "Lets do some simplification:\n",
      "$$ 3xy\\prime\\prime + y\\prime - y = C_0(3(r^2-r)+r)\\frac{1}{x} + \\sum_{k=0}^{\\infty}{ [C_{k+1}((k+r+1)(3(k+r)-1) - C_k )x^k ] } $$\n",
      "$$ 3xy\\prime\\prime + y\\prime - y = C_0(3(r^2-r)+r)\\frac{1}{x} + \\sum_{k=0}^{\\infty}{ [(k+r+1)(3(k+r)-1) C_{k+1} - C_k ]x^k  } $$\n",
      "\n",
      "What $r$'s would be acceptable if we wanted this to equal zero?\n",
      "\n",
      "$ r(3r-2)C_0 = 0 $ IF $C_0 =0 $ OR $ r=0, \\frac{2}{3} $\n",
      "\n",
      "\n",
      "So if we're decided on an $r$, we still need to do stuff with the $C_k$ to zero that\n",
      "$$ (k+1+r)(3(k+r)+1)C_{k+1}-C_k = 0 $$\n",
      "$$ C_{k+1} = \\frac{1}{(k+1+r)(3(k+r)+1)}C_k $$\n",
      "Now we know $C_{k+1}$ in terms of $C_k$\n",
      "\n",
      "So we'll have two **solutions**, since we have two $r$ choices.\n",
      "\n",
      "**First**\n",
      "\n",
      "$ r=0 $: $ C_{k+1} = \\frac{1}{(k+1)(3k+1)}C_k $\n",
      "\n",
      "So what is $C_1$ in terms of $C_0$?\n",
      "$$ C_1 = \\frac{1}{(1)(1)}C_0 = C_0 $$\n",
      "$$ C_2 = \\frac{1}{(2)(4)}C_1 = \\frac{1}{8}C_1 = \\frac{1}{8}C_0 $$\n",
      "\n",
      "$$ n = k+1 $$\n",
      "$$ C_n = \\frac{1}{n(3n-2)}C_{n-1} $$\n",
      "$$ C_n = \\frac{1}{n!}\\frac{1}{(3n-2)(3(n-1)-2)(3(n-2)-2)...} C_0 $$\n",
      "\n",
      "This is our co-efficients!\n",
      "\n",
      "**Second**\n",
      "\n",
      "$ r=\\frac{2}{3} $: $C_{k+1} = \\frac{ C_k }{ (k+1+\\frac{2}{3})(3(k+\\frac{2}{3})+1) } $\n",
      "\n",
      "$$ C_{k+1} = \\frac{C_k}{\\frac{1}{3}(3k+3+2)(3k+2+1)} = \\frac{C_k}{(3k+5)(k+1)} $$\n",
      "\n",
      "$$ n=k+1 $$\n",
      "$$ C_{n} = \\frac{C_{n-1}}{(3n+2)(n)} = \\frac{C_{0}}{n!(3n+2)(3(n-1)+2)...} $$\n",
      "\n",
      "### Answer:\n",
      "For $r=0$\n",
      "$$ y_1= \\sum_{n=0}^{\\infty}{ \\frac{C_0}{n!(3n-2)...4...1} x^n } $$\n",
      "\n",
      "For $r=\\frac{2}{3}$\n",
      "$$ y_2 = x^{\\frac{2}{3}}\\sum_{n=0}^{\\infty}{ \\frac{C_0}{n!(3n+2)...5 }x^n } $$"
     ]
    },
    {
     "cell_type": "markdown",
     "metadata": {},
     "source": [
      "## Try one!\n",
      "$$ 2xy\\prime\\prime - y\\prime + 2y = 0 $$"
     ]
    },
    {
     "cell_type": "code",
     "collapsed": false,
     "input": [],
     "language": "python",
     "metadata": {},
     "outputs": []
    }
   ],
   "metadata": {}
  }
 ]
}