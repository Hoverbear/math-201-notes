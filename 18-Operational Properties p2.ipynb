{
 "metadata": {
  "name": "18-Operational Properties p2"
 },
 "nbformat": 3,
 "nbformat_minor": 0,
 "worksheets": [
  {
   "cells": [
    {
     "cell_type": "markdown",
     "metadata": {},
     "source": [
      "# 7.4 Operational Properties Part 2 - Math 201\n",
      "### Dr. Florin Diacu (http://www.math.uvic.ca/faculty/diacu/)"
     ]
    },
    {
     "cell_type": "markdown",
     "metadata": {},
     "source": [
      "$$ \\frac{d}{ds}F(s) = \\frac{d}{ds} \\int_0^\\infty{ e^{-st}f(t) dt } = \\int_0^\\infty{ \\frac{\\partial}{\\partial s}[e^{-st}f(t)dt } = -\\int_0^\\infty{ e^{-st}tf(t)dt } = -L\\\\{tf(t)\\\\} $$\n",
      "\n",
      "$$ L\\\\{tf(t)\\\\} = -\\frac{d}{ds}L\\\\{f(t)\\\\} $$\n",
      "$$ L\\\\{t^2f(t)\\\\} = L\\\\{t*tf(t)\\\\} = -\\frac{d}{ds}L\\\\{t f(t)\\\\} = -\\frac{d}{ds}(-\\frac{d}{ds}L\\\\{f(t)\\\\}) = \\frac{d^2}{ds^2}L\\\\{f(t)\\\\} $$"
     ]
    },
    {
     "cell_type": "markdown",
     "metadata": {},
     "source": [
      "# Theorem: Derivatives of transforms\n",
      "$$ F(s) = L\\\\{f(t)\\\\}, n=1,2,3,... $$\n",
      "$$ L\\\\{t^nf(t)\\\\} (-1)^n \\frac{d^n}{ds^n}F(s) $$"
     ]
    },
    {
     "cell_type": "code",
     "collapsed": false,
     "input": [],
     "language": "python",
     "metadata": {},
     "outputs": []
    }
   ],
   "metadata": {}
  }
 ]
}