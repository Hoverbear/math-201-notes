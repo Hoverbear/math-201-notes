{
 "metadata": {
  "name": "16- Inverse Laplace Transforms"
 },
 "nbformat": 3,
 "nbformat_minor": 0,
 "worksheets": [
  {
   "cells": [
    {
     "cell_type": "markdown",
     "metadata": {},
     "source": [
      "# 7.2 Inverse Laplace Transform - Math 201\n",
      "### Dr. Florin Diacu (http://www.math.uvic.ca/faculty/diacu/)"
     ]
    },
    {
     "cell_type": "markdown",
     "metadata": {},
     "source": [
      "If $F(s)$ is the laplace transform of $F(t)$, $L\\\\{f(t)\\\\}=F(s)$, then $f(t)$ is the inverse laplace transform of $F(s)$.\n",
      "$$ L^{-1}\\\\{F(s)\\\\} = f(t) $$\n",
      "\n",
      "$$ L\\\\{1\\\\} = \\frac{1}{s} \\Rightarrow 1 = L^{-1}\\\\{\\frac{1}{s}\\\\} $$\n",
      "$$ L\\\\{t\\\\} = \\frac{1}{s^2} \\Rightarrow t = L^{-1}\\\\{\\frac{1}{s^2}\\\\} $$\n",
      "$$ L\\\\{e^{-3t}\\\\} = \\frac{1}{s+3} \\Rightarrow e^{-3t} = L^{-1}\\\\{\\frac{1}{s+3}\\\\} $$\n",
      "\n",
      "See book for more!\n",
      "\n",
      "### Ex.\n",
      "$$ L^{-1}\\\\{\\frac{1}{s^5}\\\\} = \\frac{1}{4!}L^{-1}\\\\{\\frac{4!}{s^5}\\\\} = \\frac{1}{24}t^4 $$\n",
      "$$ L^{-1}\\\\{\\frac{1}{s^2+7}\\\\} = \\frac{1}{\\sqrt{7}}L^{-1}\\\\{\\frac{\\sqrt{7}}{s^2+\\sqrt{7}^2} = \\frac{1}{\\sqrt{7}} \\sin{\\sqrt{7}t} $$\n",
      "\n",
      "----\n",
      "\n",
      "## Linearity Property\n",
      "$ L^{-1} $ is linear.\n",
      "$$ L^{-1}\\\\{ \\alpha F(s) +\\beta G(s) \\\\} = \\alpha L^{-a}\\\\{F(s)\\\\} + \\beta L^{-1}\\\\{G(s)\\\\} $$\n",
      "\n",
      "----\n",
      "\n",
      "### Ex.\n",
      "$$ L^{-1}\\\\{\\frac{-2s+6}{s^2+4}\\\\} = L^{-1}\\\\{\\frac{-2s}{s^2+4} + \\frac{6}{s^2+4}\\\\} = -2L^{-1}\\\\{\\frac{s}{s^2+4}\\\\} + \\frac{6}{2}L^{-1}\\\\{\\frac{2}{s^2+4}\\\\} = -2\\cos{2t}+3\\sin{2t} $$\n",
      "\n",
      "### Ex. (Harder)\n",
      "$$ L^{-1}\\\\{ \\frac{s^2+6s+9}{(s-1)(s-2)(s+4)} \\\\} $$\n",
      "Use partial fractions to simplify the expression.\n",
      "$$ \\frac{s^2+6s+9}{(s-1)(s-2)(s+4)} = \\frac{A}{s-1}+\\frac{B}{s-2}+\\frac{C}{s+4} = \\frac{ A(s-2)(s+4) + B(s-1)(s+4) + C(s-1)(s-2) }{(s-1)(s-2)(s+4)} $$\n",
      "Simplifying\n",
      "$$ = \\frac{ A(s^2+2s-8) + B(s^2+3s-4) + C(s^2-3s+2) }{(s-1)(s-2)(s+4)} = \\frac{ (A+B+C)s^2 + (2A+3B-3C)s -8A -4B + 2C }{(s-1)(s-2)(s+4)} $$\n",
      "Which tells us:\n",
      "$$ A+B+C = 1 $$\n",
      "$$ 2A +3b -3C = 6 $$\n",
      "$$ -8A -4B + 2C = 9 $$\n",
      "\n",
      "Solving this alegbraic equation:\n",
      "$$ A = -\\frac{16}{5} $$\n",
      "$$ B = \\frac{25}{6} $$\n",
      "$$ C = \\frac{1}{30} $$\n",
      "\n",
      "$$ \\frac{ s^2 + 6s + 9 }{ (s-1)(s-2)(s+4) } = \\frac{ -\\frac{16}{5} }{(s-1)} + \\frac{ \\frac{25}{6} }{(s-2)} + \\frac{ \\frac{1}{30} }{(s+4)} $$\n",
      "Back doing the laplace transform:\n",
      "$$ L^{-1}\\\\{\\frac{(s^2+6s+9)}{(s-1)(s-2)(s+4)}\\\\} = -\\frac{16}{5} L^{-1}\\\\{\\frac{1}{s-1}\\\\} + \\frac{25}{6}L^{-1}\\\\{\\frac{1}{s-2}\\\\} + \\frac{1}{30}L^{-1}\\\\{\\frac{1}{s+4}\\\\} = -\\frac{16}{5}e^t + \\frac{2r}{6}e^{2t} + \\frac{1}{30}e^{-4t} $$"
     ]
    },
    {
     "cell_type": "markdown",
     "metadata": {},
     "source": [
      "# Transforms of Derivatives\n",
      "$$ L\\\\{f\\prime(t)\\\\} = \\int^{\\infty}_{0}{ e^{-st}f\\prime(t) dt } = -f(0) + s*L\\\\{f(t)\\\\} $$\n",
      "$$ L\\\\{f\\prime\\prime(t)\\\\} = \\int^{\\infty}_0{ e^{-st}f\\prime\\prime(t) dt} = -f\\prime(0) + s*L\\\\{f\\prime(t)\\\\} = -f\\prime(t) - s*f(0) + s^2L\\\\{f(t)\\\\} $$\n",
      "\n",
      "## Theorem\n",
      "If $f, f\\prime, ..., f^{(n-1)}$ are continuous on $[,\\infty)$ and are of exponential order and if $f^{(n)}$ is peicewise continuous on $[0,\\infty)$, then\n",
      "$$ L\\\\{f^{(n)}(t)\\\\} = s^n*L\\\\{f(t)\\\\} - s^{n-1}f(0)-s^{(n-2)}f\\prime(0) - ... - f^{n-1}(0) $$"
     ]
    },
    {
     "cell_type": "markdown",
     "metadata": {},
     "source": [
      "# Solving Linear DEs using the Laplace Transform\n",
      "$$ a_ny^{(n)}+a_{n-1}y^{(n-1)}+...+a_0y = g(t) $$\n",
      "$$ y(0)=y_0, y\\prime(0)=y_1 ...., y^{(n-1)}(0)=y_{n-1} $$\n",
      "\n",
      "$$ L\\\\{a_ny^{(n)}+a_{n-1}y^{(n-1)}+...+a_0y\\\\} = L\\\\{g(t)\\\\} $$\n",
      "$$ a_n L\\\\{y^{(n)}_{(t)}\\\\} a_{n-1}L\\\\{y^{(n-1)}_{t}\\\\} + ... + a_0 L\\\\{y(t)\\\\} = L\\\\{g(t)\\\\} $$\n",
      "\n",
      "Noting\n",
      "$$ y(s) = L\\\\{y(t)\\\\}$$\n",
      "$$ a_n[s^nY(s) _ s^{n-1}y(0) - ... - y^{(n-1)}(0)] + a_{n-1}[s^{n-1}Y(s)-s^{(n-2)}y(0) - ... - y^{(n-2)}(0)] + ... + a_0y(s) = G(s) $$\n",
      "\n",
      "We can compute, in principle, $Y(s)$, then take $L^{-1}\\\\{Y(0)\\\\}$ and obtain the solution of the initial value problem.\n",
      "\n",
      "In general:\n",
      "$$ ODE \\Rightarrow L\\\\{\\\\} \\Rightarrow Algebra \\Rightarrow Solve \\Rightarrow Solution \\Rightarrow L^{-1}\\\\{\\\\} \\Rightarrow Solution ODE $$"
     ]
    },
    {
     "cell_type": "markdown",
     "metadata": {},
     "source": [
      "### Ex\n",
      "$$ y\\prime + 3y = 13\\sin{2t} $$\n",
      "$$ y(0)=6 $$\n",
      "\n",
      "Applying Laplace Transform\n",
      "$$ L\\\\{y\\prime +3y\\\\} = L\\\\{13\\sin{2t}\\\\} $$\n",
      "$$ L\\\\{y\\prime\\\\} + 3L\\\\{y\\\\} = 13L\\\\{\\sin{2t}\\\\} $$\n",
      "\n",
      "To make notation easier:\n",
      "$$ Y = L\\\\{y\\\\} $$\n",
      "\n",
      "$$ L\\\\{y\\prime \\\\} = sY(s)-y(0) = sY(s)  -6 $$\n",
      "$$ L\\\\{\\sin{2t}\\\\} = \\frac{2}{s^2+4} $$\n",
      "\n",
      "The differential equation is thus reduced to the algebraic equation:\n",
      "$$ sY(s)-6+3Y(s) = 13*\\frac{2}{s^2+4} $$\n",
      "$$ Y(0) = \\frac{6}{s+3} + \\frac{26}{(s+3)(s^2+4)} = \\frac{6s^2+50}{(s+3)(s^2+4)} $$\n",
      "\n",
      "Partial Fractions\n",
      "$$ \\frac{6s^2+50}{(s+3)(s^2+4)} = \\frac{A}{s+3} + \\frac{Bs+C}{s^2+4} $$\n",
      "$$ 6s^2 + 50 = A(s^2+4) + (Bs+C)(s+3) $$\n",
      "$$ s=-3 \\Rightarrow A=8 $$\n",
      "Solve the system:\n",
      "$$ 6s^2+50 = (A+B)s^2 + (3B+C)s + 4A + 3C $$\n",
      "$$ A+B = 6 \\Rightarrow B=-2 $$\n",
      "$$ 3B+C = 0 \\Rightarrow C=6 $$\n",
      "$$ 4A+3C = 50 $$\n",
      "\n",
      "$$ Y(s) = \\frac{8}{s+3} + \\frac{-2s+6}{s^2+4} $$\n",
      "$$ y(t) = L^{-1}\\\\{ \\frac{8}{s+3} + \\frac{-2s+6}{s^2+4} \\\\} = 8L^{-1}\\\\{ \\frac{1}{s+3} \\\\} - 2L^{-1}\\\\{ \\frac{s}{s^2+4} \\\\} + 3L^{-1}\\\\{\\frac{2}{s^2+4} \\\\} = 8e^{-3t} - 2\\cos{2t} + 3\\sin{2t} $$\n",
      "\n",
      "### Ex. (Can do with other methods)\n",
      "$$ y\\prime\\prime - 3y\\prime + 2y = e^{-4t} $$\n",
      "$$ y(0) = 1 $$\n",
      "$$ y\\prime(0) = 5 $$\n",
      "\n",
      "$$ L\\\\{y\\prime\\prime\\\\} - 3L\\\\{y\\prime\\\\} + 2L\\\\{y\\\\} = L\\\\{e^{-4t}\\\\} $$\n",
      "$$ s^2Y(s) - sy(0) - y\\prime(0) - 3[sy(s)-y(0)]+2Y(0) = \\frac{1}{s+4} $$\n",
      "\n",
      "$$ (s^2-3s+2)Y(s) = s+s+\\frac{1}{s+4} $$\n",
      "This looks like previous example!\n",
      "$$ Y(s)= \\frac{s+2}{s^2-3s+2} + \\frac{1}{(s^2-3s+2)(s+4)} = \\frac{s^2+6s+9}{(s-1)(s-2)(s+4)} = \\frac{ -\\frac{16}{5} }{(s-1)} + \\frac{ \\frac{25}{6} }{(s-2)} + \\frac{ \\frac{1}{30} }{(s+4)} $$\n",
      "\n",
      "Therefore\n",
      "$$ y(t) = L^{-1}\\\\{Y(s)\\\\} = -\\frac{16}{5}e^t + \\frac{25}{6}e^{2t} + \\frac{1}{3)}e^{-4t} $$"
     ]
    },
    {
     "cell_type": "code",
     "collapsed": false,
     "input": [],
     "language": "python",
     "metadata": {},
     "outputs": []
    }
   ],
   "metadata": {}
  }
 ]
}