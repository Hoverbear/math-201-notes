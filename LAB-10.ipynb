{
 "metadata": {
  "name": "LAB-10"
 },
 "nbformat": 3,
 "nbformat_minor": 0,
 "worksheets": [
  {
   "cells": [
    {
     "cell_type": "markdown",
     "metadata": {},
     "source": [
      "# Lab 10 - Math 201\n",
      "### Seth Chart"
     ]
    },
    {
     "cell_type": "code",
     "collapsed": false,
     "input": [
      "from sympy import *\n",
      "%load_ext sympyprinting\n",
      "\n",
      "x = Symbol(\"x\")\n",
      "x+pi"
     ],
     "language": "python",
     "metadata": {},
     "outputs": [
      {
       "latex": [
        "$$x + \\pi$$"
       ],
       "output_type": "pyout",
       "png": "[encoded data removed]",
       "prompt_number": 12,
       "text": [
        "x + \u03c0"
       ]
      }
     ],
     "prompt_number": 12
    },
    {
     "cell_type": "markdown",
     "metadata": {},
     "source": [
      "1. $$ y\\prime\\prime - xy = 0 $$\n",
      "2. $$ xy\\prime\\prime - y = 0 $$\n",
      "\n",
      "About $x=0$\n"
     ]
    },
    {
     "cell_type": "markdown",
     "metadata": {},
     "source": [
      "### Ex.\n",
      "$$ y\\prime\\prime - xy = 0 $$\n",
      "This is an **ordinary point**\n",
      "$$ \\sum_{n=2}^{\\infty} C_n(n)(n-1)x^{n-2} - x\\sum_{n=0}^{\\infty} C_nx^n $$\n",
      "$$ \\sum_{n=2}^{\\infty} C_n(n)(n-1)x^{n-2} - \\sum_{n=0}^{\\infty} C_nx^{n+1} $$\n",
      "Setting $k=n-2$ for the first sum, $k=n+1$ for the second term. (Note how the second index the $k=1$)\n",
      "$$ \\sum_{k=0}^{\\infty} C_{k+2}(k+2)(k+1)x^{k} - \\sum_{k=1}^{\\infty} C_{k-1}x^{k} $$\n",
      "Need to pull a term out to equate the indexes.\n",
      "$$ 2C_2 + \\sum_{k=1}^{\\infty} C_{k+2}(k+2)(k+1)x^{k} - \\sum_{k=1}^{\\infty} C_{k-1}x^{k} $$\n",
      "$$ 2C_2 + \\sum_{k=1}^{\\infty} C_{k+2}(k+2)(k+1)x^{k} -  C_{k-1}x^{k} $$\n",
      "Since $2C_2 = 0$, $C_2 = 0$\n",
      "\n",
      "$$ C_{k+2} = \\frac{ C_{k-1} }{(k+2)(k+1)} $$\n",
      "\n",
      "$$ k=1 \\Rightarrow C_3 = \\frac{C_0}{(3)(2)} $$\n",
      "$$ k=2 \\Rightarrow C_4 = \\frac{C_1}{(4)(3)} $$\n",
      "$$ k=3 \\Rightarrow C_5 = \\frac{C_2}{(5)(4)} \\Rightarrow 0 $$\n",
      "$$ k=4 \\Rightarrow C_6 = \\frac{C_3}{(6)(5)} \\Rightarrow \\frac{C_0}{(6)(5)(3)(2)} $$\n",
      "$$ k=5 \\Rightarrow C_7 = \\frac{C_4}{(7)(6)} \\Rightarrow \\frac{C_1}{(7)(6)(4)(3)} $$\n",
      "\n",
      "$$ C_{3i} = \\frac{C_0}{[(3i)(3(i-1))][(3i-1)((3(i-1)-1)]...} $$\n",
      "\n",
      "Answers:\n",
      "$$ C_0 = 1 $$\n",
      "$$ y_1(x) = 1 + \\frac{1}{6}x^3 + \\frac{1}{180}x^5 + ... $$\n",
      "$$ C_1 = 1 $$\n",
      "$$ y_2(x) = x + \\frac{1}{12}x^4 + \\frac{1}{504}x^7 + ... $$"
     ]
    },
    {
     "cell_type": "markdown",
     "metadata": {},
     "source": [
      "### Ex.\n",
      "$$ xy\\prime\\prime - y = 0 $$\n",
      "This is a **singular point**"
     ]
    },
    {
     "cell_type": "code",
     "collapsed": false,
     "input": [],
     "language": "python",
     "metadata": {},
     "outputs": []
    }
   ],
   "metadata": {}
  }
 ]
}