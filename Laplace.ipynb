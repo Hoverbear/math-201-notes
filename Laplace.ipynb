{
 "metadata": {
  "name": "Laplace"
 },
 "nbformat": 3,
 "nbformat_minor": 0,
 "worksheets": [
  {
   "cells": [
    {
     "cell_type": "markdown",
     "metadata": {},
     "source": [
      "Laplace Transform\n",
      "=================\n",
      "<!-- These are style changes. -->\n",
      "<style>\n",
      "    .MathJax_Display {\n",
      "        text-align: center!important;\n",
      "    }\n",
      "    .cell {\n",
      "        width: 70%!important;\n",
      "    }\n",
      "</style>"
     ]
    },
    {
     "cell_type": "markdown",
     "metadata": {},
     "source": [
      "Prepwork\n",
      "--------\n",
      "(Please excuse the mess)"
     ]
    },
    {
     "cell_type": "code",
     "collapsed": false,
     "input": [
      "# Prepare to do nice mathematics.\n",
      "import sympy as sym\n",
      "import numpy as np\n",
      "import matplotlib.pyplot as plt\n",
      "# Settings\n",
      "%load_ext sympy.interactive.ipythonprinting\n",
      "%pylab inline\n",
      "plt.rc('figure', figsize=(10, 6))\n",
      "\n",
      "# Tools I'll use\n",
      "def plot_example(function, var, title=None, start=0, stop=10):\n",
      "    # arange(start, stop, step) yeilds you evenly spaced values on an interval.\n",
      "    x_vec = np.arange(start, stop, .1);\n",
      "    # The function we want to plot.\n",
      "    f = lambdify([var], function, 'numpy')  # the first argument is a list of variables that f will be a function of: in this case only x -> f(x)\n",
      "    y_vec = f(x_vec)  # now we can directly pass a numpy array and f(x) is efficiently evaluated\n",
      "    # Plot\n",
      "    plt.title(title)\n",
      "    plt.grid(True)\n",
      "    plt.plot(x_vec, y_vec)\n",
      "    plt.show()"
     ],
     "language": "python",
     "metadata": {},
     "outputs": [
      {
       "output_type": "stream",
       "stream": "stdout",
       "text": [
        "\n",
        "Welcome to pylab, a matplotlib-based Python environment [backend: module://IPython.zmq.pylab.backend_inline].\n",
        "For more information, type 'help(pylab)'.\n"
       ]
      }
     ],
     "prompt_number": 101
    },
    {
     "cell_type": "markdown",
     "metadata": {},
     "source": [
      "### Definition: Exponential Order ###\n",
      "A function $f(t)$ is of **exponential order** if there are constants '$C$' and '$a$' such that, for all $t \\gt 0$:\n",
      "$$ |f(t)| \\leq Ce^{a*(t)} $$\n",
      "It's worthwhile to note that this includes a **lot** of functions. Observe it's growth:"
     ]
    },
    {
     "cell_type": "code",
     "collapsed": false,
     "input": [
      "exponential_order = 1*sym.exp(1*t)\n",
      "plot_example(exponential_order, t, \"Exponential Order\", 0, 5)"
     ],
     "language": "python",
     "metadata": {},
     "outputs": [
      {
       "output_type": "display_data",
       "png": "[encoded data removed]"
      }
     ],
     "prompt_number": 122
    },
    {
     "cell_type": "markdown",
     "metadata": {},
     "source": [
      "### Theorem ###\n",
      "Suppose $f$ is a **peicewise continuous function** defined on $[0,\\infty]$ which is of exponential order. Then the $\\mathcal{L}(f)(s)$ exists for large values of $s$. Specifically, if $|f(t)| \\leq Ce^{at}$, then $\\mathcal{L}(f)(s)$ exists for at least $s \\gt a$."
     ]
    },
    {
     "cell_type": "code",
     "collapsed": false,
     "input": [],
     "language": "python",
     "metadata": {},
     "outputs": []
    }
   ],
   "metadata": {}
  }
 ]
}