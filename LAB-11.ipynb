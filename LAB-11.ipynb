{
 "metadata": {
  "name": "LAB-11"
 },
 "nbformat": 3,
 "nbformat_minor": 0,
 "worksheets": [
  {
   "cells": [
    {
     "cell_type": "markdown",
     "metadata": {},
     "source": [
      "# Lab 11 (Laplace Transforms) - Math 201\n",
      "### Seth Chart"
     ]
    },
    {
     "cell_type": "code",
     "collapsed": false,
     "input": [
      "from sympy import *\n",
      "%load_ext sympyprinting\n",
      "\n",
      "x = Symbol(\"x\")\n",
      "x+pi"
     ],
     "language": "python",
     "metadata": {},
     "outputs": [
      {
       "latex": [
        "$$x + \\pi$$"
       ],
       "output_type": "pyout",
       "png": "[encoded data removed]",
       "prompt_number": 12,
       "text": [
        "x + \u03c0"
       ]
      }
     ],
     "prompt_number": 12
    },
    {
     "cell_type": "markdown",
     "metadata": {},
     "source": [
      "Laplace transform Table: http://tutorial.math.lamar.edu/pdf/Laplace_Table.pdf\n",
      "\n",
      "## Ex's\n",
      "\n",
      "* $$ y\\prime - y = 1, y(0) = 0 $$\n",
      "* $$ y\\prime + 6y = 6 ^{4t}, y(0) = 2 $$\n",
      "* $$ y\\prime\\prime + 5y\\prime + 4y = 0 , y(0)=1, y\\prime(0)=0 $$\n",
      "* $$ y\\prime\\prime = y = \\sqrt{2}\\sin{\\sqrt{2}t}, y(0)=10, y\\prime(0) = 0 $$\n",
      "\n",
      "## Things to notice\n",
      "$$ L[y] = Y(s) $$\n",
      "$$ L[y\\prime] = SY(s) - y(0) $$\n",
      "$$ L[y\\prime\\prime] = s^2Y(s) - sy(0) - y\\prime(0) $$\n",
      "\n",
      "## The Routine\n",
      "\n",
      "1. $$ y\\prime\\prime + ay\\prime + by =0 $$\n",
      "2. Laplace Transform it.\n",
      "3. $$ s^2Y(s) + ... $$\n",
      "4. Algebra\n",
      "5. $$ Y(s) = F(s) $$\n",
      "6. Inverse Laplace Transform it.\n",
      "7. $$ y = L^{-1}[F(s)] $$\n",
      "\n"
     ]
    },
    {
     "cell_type": "markdown",
     "metadata": {},
     "source": [
      "### Ex 1\n",
      "$$ y\\prime - y = 1, y(0) = 0 $$\n",
      "\n",
      "Into Laplace\n",
      "$$ L[y\\prime] - L[y] = L[1] $$\n",
      "\n",
      "Subbing from tables\n",
      "$$ sY(s) - y(0) - Y(s) = \\frac{1}{s} $$\n",
      "$$ sY(s) - Y(s) = \\frac{1}{s} $$\n",
      "$$ Y(s)(s-1)=\\frac{1}{s} $$\n",
      "$$ Y(s) = \\frac{1}{(s)(s-1)} $$\n",
      "\n",
      "Performing partial fractions\n",
      "$$ Y(s) = \\frac{A}{s} + \\frac{B}{s-1} $$\n",
      "$$ Y(s) = \\frac{-1}{s} + \\frac{1}{s-1} $$\n",
      "\n",
      "Inverse transform\n",
      "$$ Y(s) = L^{-1}[ \\frac{-1}{s} + \\frac{1}{s-1} ] $$\n",
      "$$ Y(s) = -1 + e^{s} $$"
     ]
    },
    {
     "cell_type": "markdown",
     "metadata": {},
     "source": [
      "### Ex 2\n",
      "$$ y\\prime + 6y = e^{4t}, y(0)=2 $$\n",
      "\n",
      "Into Laplace\n",
      "$$ L[y\\prime] + L[6y] = L[e^{4t}] $$\n",
      "\n",
      "Subbing from tables\n",
      "$$ sY(s) - y(0) + 6Y(s) = \\frac{1}{s-4} $$\n",
      "$$ sY(s) - 2 + 6Y(s) = \\frac{1}{s-4} $$\n",
      "$$ Y(s)(s+6) = \\frac{1 - 2s + 8}{(s-4)} $$\n",
      "$$ Y(s) = \\frac{-2s + 9}{(s-4)(s+6)} $$\n",
      "\n",
      "Partials Fractions\n",
      "$$ \\frac{-2s + 9}{(s-4)(s+6)}  = \\frac{A}{s-4} + \\frac{B}{s+6} $$\n",
      "$$ \\frac{-2s + 9}{(s-4)(s+6)}  = \\frac{A(s+6)+B(s-4)}{(s-4)(s+6)} $$\n",
      "$$ \\frac{-2s + 9}{(s-4)(s+6)}  = \\frac{s(A+B)+(6A-4B)}{(s-4)(s+6)} $$\n",
      "\n",
      "$$-2 = A+B $$\n",
      "$$ 9 = 6A-4B $$\n",
      "\n",
      "$$ -2 + A + B = 6A-4B -9 $$\n",
      "\n",
      "((Continues))"
     ]
    },
    {
     "cell_type": "markdown",
     "metadata": {},
     "source": [
      "### Ex 3\n",
      "$$ y\\prime\\prime + 5y\\prime + 4y = 0, y(0)=1, y\\prime(0)=0 $$\n",
      "Transformed:\n",
      "$$ s^2Y(s) - 5y(0) - y\\prime(0) + 5sY(s) - y(0) + 4Y(s) $$\n",
      "$$ (s^2 + 5s + 4)Y(s) = s+5 $$\n",
      "\n",
      "Partial Fractions\n",
      "$$ Y(s) = \\frac{s+5}{(s+4)(s+1)} = \\frac{A}{s+4} + \\frac{B}{s+1} $$\n",
      "$$ s+5 = A(s+1) + B(s+4) $$\n",
      "$$ s = -4 \\Rightarrow 1=-3A \\Rightarrow A = \\frac{-1}{3} $$\n",
      "$$ s=-1 \\Rightarrow 4=3B \\Rightarrow B = \\frac{4}{3} $$\n",
      "\n",
      "... COntinued..."
     ]
    },
    {
     "cell_type": "markdown",
     "metadata": {},
     "source": [
      "### Ex 4\n",
      "$$ y\\prime\\prime + y = \\sqrt{2}\\sin{\\sqrt{2}t} $$\n",
      "$$ L[y\\prime\\prime] + L[y] = \\sqrt{2} L[\\sin{\\sqrt{2}t} $$\n",
      "$$ s^2Y(s) - sy(0)-y\\prime(0) + Y(s) = \\sqrt{2} \\frac{\\sqrt{k}}{s^2+(\\sqrt{2})^2} $$\n",
      "Which simplifies too\n",
      "$$ (s^2+1)Y(s) -10s = \\frac{2}{s^2+2} $$\n",
      "\n",
      "Partial Fractions\n",
      "$$ Y(s) = \\frac{2}{(s^2+2)(s^2+1)} + \\frac{10s}{s^2+1} $$\n",
      "$$ \\frac{1}{(s^2+2)(s^2+1)} = \\frac{As+B}{s^2+2} + \\frac{Cs+D}{s^2+1} $$\n",
      "$$ 1 = (A+C)s^2 + (B+D)s^2 + (A+2C)s +(B+2D) $$\n",
      "\n",
      "$$A = -C$$\n",
      "$$ B=-D$$\n",
      "$$ C=0$$\n",
      "$$ D=1$$\n",
      "\n",
      "PLugging back in and prepping for inverse laplace\n",
      "$$ Y(t) = L^{-1}[Y(s)] = \\sqrt{2}L^{-1}[\\frac{\\sqrt{2}}{s^2+2} + 2L[\\frac{1}{s^2+1}] + 10L[\\frac{s}{s^2+1}] $$\n",
      "$$ y = -\\sqrt{2} \\sin{\\sqrt{2}t} + 2\\sin{t} + 10\\cos{t} $$"
     ]
    },
    {
     "cell_type": "code",
     "collapsed": false,
     "input": [],
     "language": "python",
     "metadata": {},
     "outputs": []
    }
   ],
   "metadata": {}
  }
 ]
}