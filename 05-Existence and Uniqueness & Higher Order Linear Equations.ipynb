{
 "metadata": {
  "name": "05-Existence and Uniqueness & Higher Order Linear Equations"
 },
 "nbformat": 3,
 "nbformat_minor": 0,
 "worksheets": [
  {
   "cells": [
    {
     "cell_type": "markdown",
     "metadata": {},
     "source": [
      "# Existence and Uniqueness - Math 201\n",
      "### Dr. Florin Diacu (http://www.math.uvic.ca/faculty/diacu/)"
     ]
    },
    {
     "cell_type": "code",
     "collapsed": false,
     "input": [
      "from sympy import *\n",
      "%load_ext sympyprinting\n",
      "\n",
      "x = Symbol(\"x\")\n",
      "x+pi"
     ],
     "language": "python",
     "metadata": {},
     "outputs": [
      {
       "latex": [
        "$$x + \\pi$$"
       ],
       "output_type": "pyout",
       "png": "[encoded data removed]",
       "prompt_number": 1,
       "text": [
        "x + \u03c0"
       ]
      }
     ],
     "prompt_number": 1
    },
    {
     "cell_type": "markdown",
     "metadata": {},
     "source": [
      "### Ex.\n",
      "$$ y\\prime = 3y^{\\frac{2}{3}} $$\n",
      "$$ y=y(x) $$\n",
      "$$ y(0)=0 $$\n",
      "\n",
      "Solution:\n",
      "$$ y_1(x)=0, y_1:\\mathbb{R}\\rightarrow \\mathbb{R} $$\n",
      "\n",
      "$$ y_2(x)=x^3, y_2: \\mathbb{R} \\rightarrow \\mathbb{R} $$\n",
      "$$ y_2\\prime (x)=3x^2 $$\n",
      "$$ 3x^2=3(x)^{\\frac{3}{2}} $$\n",
      "$$ 3x^2=3x^2 $$\n",
      "$$ y_2(0)=0 $$\n",
      "\n",
      "This example shows that for initial value problems (most of which describe physical phenomona) we would like to have existence and uniqueness of solutions."
     ]
    },
    {
     "cell_type": "markdown",
     "metadata": {},
     "source": [
      "## Theorem: Existence and Uniqueness\n",
      "Let $R$ be a rectangular region in the xy-plane defined by $a \\leq x \\leq b$, $c \\leq y \\leq d$ that contains $(x_0, y_0)$ in its interior.\n",
      "\n",
      "If $f(x,y)$ and $\\frac{df}{dx}(x,y)$ is continuous on $R$, then there is an interval $I_0=(x_0-h,x_0+h)$, $h>0$, contained in $[a,b]$, and a unique function $y:I_0\\rightarrow \\mathbb{R}$ that is a solution of the I.V.P.\n",
      "$$ y\\prime = f(y,x), y(x_0)=y_0 $$\n",
      "\n",
      "In the above example, the function $f(y,x)=3y^{\\frac{2}{3}}$, which is not differentiable relative to $y$."
     ]
    },
    {
     "cell_type": "markdown",
     "metadata": {},
     "source": [
      "# Preliminary Theory - Higher Order Linear Equations\n",
      "## Initial Value Problem\n",
      "An nth order initial value problem looks like:\n",
      "$$ a_n(x)\\frac{d^ny}{dx^n}+a_{n-1}(x)\\frac{d^{n-1}y}{dx^{n-1}}+...+a_1(x)\\frac{dy}{dx}+a_0xy=g(x) $$\n",
      "Where $a_0, a_1, ..., a_n$ are given functions.\n",
      "\n",
      "We will need to impose some initial conditions:\n",
      "$$ y(x_0)=y_0 $$\n",
      "$$ \\frac{dy}{dx}(x_0)=y_1 $$\n",
      "$$ \\frac{d^{n-1}y}{dx^{n-1}}(x_0)=y_{n-1} $$\n",
      "**Note:** Stopping at $n-1$."
     ]
    },
    {
     "cell_type": "markdown",
     "metadata": {},
     "source": [
      "## Theorem: Existence and Uniqueness\n",
      "Let $a_n, a_{n-1}, ..., a_0, g$ be continuous on some interval $I$ and $a_n(x)\\neq0$ for every $x$ in $I$. If $x_0$ is any point in $I$, then there exists a unique solution on the interval $I$.\n",
      "\n",
      "### Ex.\n",
      "$$ 4y\\prime\\prime\\prime+2y\\prime\\prime-2y\\prime+5y=0 $$\n",
      "$$ y\\prime\\prime(2)=5 $$\n",
      "$$ y\\prime(2)=-1 $$\n",
      "$$ y(2)=0 $$\n",
      "\n",
      "By the theorem, existence and uniqueness are gauranteed.\n",
      "\n",
      "### Ex.\n",
      "$$ y\\prime\\prime - 4y = 12x $$\n",
      "Initial conditions:\n",
      "$$ y(0)=4 $$\n",
      "$$ y\\prime(0)=1 $$\n",
      "\n",
      "\n",
      "$$ a_2(x)=1 $$\n",
      "$$ a_1(x)=0 $$\n",
      "$$ a_0(x)=-4 $$\n",
      "$$ g(x)=12x $$\n",
      "\n",
      "The solution is:\n",
      "$$ y(x)=3e^{2x}+e^{-2x}-3x $$\n",
      "(Verify this yourself!)"
     ]
    },
    {
     "cell_type": "markdown",
     "metadata": {},
     "source": [
      "## Boundary Value Problem\n",
      "The conditions are not at the same points, instead they are at different points.\n",
      "$$ a_2(x)\\frac{d^2y}{dx^2}+a_1(x)\\frac{dy}{dx}+a_0(x)=g(x) $$\n",
      "$$ y(a)=y_0 $$\n",
      "$$ y(b)=y_1 $$\n",
      "$$ a\\neq b$$\n",
      "\n",
      "In general, the boundary conditions for this equation are:\n",
      "$$ \\alpha_1y(a)+\\beta y\\prime(a)=\\gamma_1 $$\n",
      "$$ \\alpha_2y(b)+\\beta_2y\\prime(b)=\\gamma_2 $$\n",
      "\n",
      "$ \\alpha_1,\\alpha_2, \\beta_1, \\beta_2, \\gamma_1, \\gamma_2 $ are given.\n",
      "\n",
      "### Ex.\n",
      "$$ x\\prime\\prime + 16x = 0 $$\n",
      "It is possible to show that the general solution is\n",
      "$$ x(t) = c_1\\cos{4t}+c_2\\sin{4t} $$\n",
      "\n",
      "1. Let's look at various boundary value problems.\n",
      "    $$ x(0)=0, x(\\frac{\\pi}{2})=0 $$\n",
      "    $$ 0=x(0)=c_1*1+c_2*0=c_1 \\Rightarrow c_1=0 $$\n",
      "    $$ 0=x(\\frac{\\pi}{2}=c_1*1+c_2*0=c_1 $$\n",
      "    We can have any choice for $c_2$.\n",
      "\n",
      "    Any fct(?) of the form:\n",
      "\n",
      "    $x(t)=c_2\\sin{4t} $ is a solution of this boundary value problem.\n",
      "2. $$ x(0)=0, x(\\frac{\\pi}{8})=0 $$\n",
      "    $$ c_1 = 0 $$\n",
      "    $$ 0=x(\\frac{\\pi}{8})=c_1*0+c_2*1=c_2 $$\n",
      "    $$ c_1 = c_2 = 0 $$\n",
      "    **Unique!**\n",
      "3. $$ x(0)=0, x(\\frac{\\pi}{2}=1 $$\n",
      "    $$ c_1=0 $$\n",
      "    $$ 1=x(\\frac{\\pi}{2}) = c_1*1+c_2*0=c_1 $$\n",
      "    $$ c_1=1$$\n",
      "    **Impossible**, no solutions."
     ]
    },
    {
     "cell_type": "markdown",
     "metadata": {},
     "source": [
      "## Simpler Notation\n",
      "Where $D=$Differential Operator\n",
      "$$ \\frac{dy}{dx}=Dy $$\n",
      "$$ \\frac{d^2y}{dx^2}=D^2y=D(Dy) $$\n",
      "$$ \\frac{d^ny}{dx^n}=D^ny $$\n",
      "\n",
      "$$ L=a_n(x)D^n+a_{n-1}(x)D^{n-1}+a_1{x}D+a_0{x} $$\n",
      "n-th order differential operator.\n",
      "\n",
      "$ Ly=g(x) $\n",
      "\n",
      "When $g(x)\\equiv 0$ is **linear homogeneous**.\n",
      "When $g(x)\\not\\equiv 0$ is **linear nonhomogeneous**.\n",
      "\n",
      "Notice that \n",
      "$$ L(\\alpha u(x) + \\beta v(x))=\\alpha L(u(x))+\\beta L(v(x)) $$\n",
      "\n",
      "This is because\n",
      "$$ D(u(x)+v(x))=D(v(x))+D(u(x)) $$\n",
      "and \n",
      "$$ D(\\alpha u(x)) = \\alpha D(u(x)) $$\n",
      "\n",
      "D and L are **linear  operators**"
     ]
    },
    {
     "cell_type": "markdown",
     "metadata": {},
     "source": [
      "### Theorem\n",
      "Let $y_1, ..., y_k$ be solutions of the homogeneous n-th order equation defined on some interval $I$. Then the linear combination\n",
      "$$ y(x)=c_1y_1(x)+...+C_ky_k(x) $$\n",
      "$c_1, ... c_n$ are constants.\n",
      "\n",
      "**Proof:** Use Linearity of L.\n",
      "\n",
      "### Ex.\n",
      "$$ x^3y\\prime\\prime\\prime - 2xy\\prime+4y = 0 $$\n",
      "Check that $y_1:(0,\\infty)\\rightarrow \\mathbb{R}$\n",
      "$$ y_2:(0,\\infty)\\rightarrow \\mathbb{r} $$\n",
      "$$ y_1(x)=x^2, y_2(x)=x^2 \\ln{x} $$\n",
      "are solutions.\n",
      "\n",
      "By superposition principle\n",
      "$$ y(x)=c_1x^2+c_2x^2\\ln{x} $$\n",
      "is a solution for any $c_1, c_2 \\in \\mathbb{R}$\n",
      "\n",
      "(Check this)"
     ]
    },
    {
     "cell_type": "markdown",
     "metadata": {},
     "source": [
      "## Definition\n",
      "A set of functions $F_1, F_2, ..., F_n$ is linearly **dependent** on an interval $I$ if there are constants $c_1, c_2, ..., c_n$ not all zero, such that\n",
      "$$ c_1f_1(x)+c_2f_2(x)+...+c_nf_n(x)=0 $$\n",
      "\n",
      "### Ex.\n",
      "$ f_1(x)=x, f_2(x)=3x $ are linearly dependent.\n",
      "\n",
      "$$ -3x+3x=0 $$\n",
      "$$ c_1=-3, c_2=1 $$\n",
      "For all $x\\in \\mathbb{R}$\n",
      "\n",
      "## Definition\n",
      "$f_1, f_2, ..., f_n$ are called linearly **independent** if they are not linearly dependent.\n",
      "\n",
      "### Ex.\n",
      "$$ f_1(x)=|x| $$\n",
      "$$ f_2(x)=x $$\n",
      "$$ f_1, f_2: \\mathbb{R}\\rightarrow \\mathbb{R} $$\n",
      "\n",
      "In $(0,\\infty)$, $f_1 = f_2$.\n",
      "In $\\mathbb{R}$ they are linearly independent.\n",
      "\n",
      "\n",
      "### Ex.\n",
      "$$ f_1(x)=\\cos^2{x}, f_2(x)=\\sin^2{x}, f_3(x)=\\sec^2{x}, f_4(x)=\\tan^2{x} $$\n",
      "Is linearly dependant on $(\\frac{-\\pi/2}, \\frac{\\pi/2})$ because\n",
      "$$ c_1\\cos^2{x}+c_2\\sin^2{x}+c_3\\sec^2{x}+c_4\\tan^2{x}=0 $$\n",
      "With $c_1=c_2=1, c_3=-1, c_4=1$ because\n",
      "$$ \\cos^2{x}+\\sin^2{x}=1 $$\n",
      "and\n",
      "$$ 1+\\tan^2{x}=\\sec^2{x} $$"
     ]
    },
    {
     "cell_type": "code",
     "collapsed": false,
     "input": [
      "print(\"New day!\")"
     ],
     "language": "python",
     "metadata": {},
     "outputs": [
      {
       "output_type": "stream",
       "stream": "stdout",
       "text": [
        "New day!\n"
       ]
      }
     ],
     "prompt_number": 2
    },
    {
     "cell_type": "markdown",
     "metadata": {},
     "source": [
      "## Definition\n",
      "Suppose that the functions $ f_1(x), f_2(x),..., f_n(x)$ have a least $n-1$ derivatives.\n",
      "\n",
      "The determinant\n",
      "$$ w(f_1,...,f_n) = \n",
      "\\begin{bmatrix}\n",
      "f_1 & f_2 & ... & f_n \\\\\\\n",
      "f_1\\prime & f_2\\prime & ... & f_n\\prime \\\\\\\n",
      "... & ... & ... & ... \\\\\\\n",
      "f_1^{n-1} & f_2^{n-2} & ... & f_n^{n-1} \\\\\\\n",
      "\\end{bmatrix} $$\n",
      "\n",
      "is called the Wrauskian of the function.\n",
      "\n",
      "## Theorem\n",
      "(Criterion for Linear Independant of solutions)\n",
      "\n",
      "Let $y_1, y_2, ..., y_n$ by $n$ solutions of the homogeneous linear $n^{th}$ order differential equation on some interval $I$. Then the set of solutions is linear independant on $I$ if and only if $W(y_1, y_2, ..., y_n) \\neq 0$ for every $x$ in $I$.\n",
      "\n",
      "It follows that when $y_1, ..., y_n$ are solutions defined on $I$, $ W(y_1, ..., y_n) $ is either identically zero on $I$, or never zero on $I$.\n",
      "\n",
      "## Definition\n",
      "Any set $y_1,...,y_n$ of linearly independant solutions of the homogeneous and linear $n^{th}$ order equation defined on an interval $I$ is called a **fundamental set of solutions** on $I$. (Such a set always exists)\n",
      "\n",
      "## Theorem: Structure of the general solution\n",
      "Let $y_1,...,y_n$ be a fundamental set of solutions defined on $I$. Then, the general solution is \n",
      "$$ y(x)=c_1y_1(x)+c_2y_2(x)+...+c_ny_n(x)$$ \n",
      "where $c_1, c_2, ... c_n$ are arbitrary constants."
     ]
    },
    {
     "cell_type": "markdown",
     "metadata": {},
     "source": [
      "### Ex. Homogenious\n",
      "$$ y\\prime\\prime - 9y = 0 $$\n",
      "$$ y_1(x)=e^{3x}, y_2(x)=e^{-3x} $$\n",
      "Are solutions:\n",
      "$$ y_1\\prime(x)=3e^{3x}, y_1\\prime\\prime=9e^{3x} $$\n",
      "$$ y_1\\prime\\prime - 9y_1=9e^{3x}-9e^{3x}=0 $$\n",
      "\n",
      "$$ y_2\\prime=-3e^{-3x}, y_2\\prime\\prime(x)=9e^{-3x} $$\n",
      "$$ y_2\\prime\\prime -9y_2=9e^{-3x}-9e^{-3x}=0 $$\n",
      "\n",
      "Now our Wrauskian:\n",
      "$$ \\begin{vmatrix}\n",
      "e^{3x} & e^{-3x} \\\\\\\n",
      "3e^{3x} & -3e^{-3x}\n",
      "\\end{vmatrix} $$\n",
      "\n",
      "$$ -3e^{-3x}*e^{3x}-3e^{-3x}*e^{3x} = -6 \\neq 0 $$\n",
      "Therefore $y_1, y_2$ are linearly independant.\n",
      "\n",
      "The **general solution** is\n",
      "$$ y(x)=c_1e^{3x}+c_2e^{-3x} $$\n",
      "$$ c_1, c_2 \\in \\mathbb{R} $$"
     ]
    },
    {
     "cell_type": "markdown",
     "metadata": {},
     "source": [
      "## Ex. Homogenious\n",
      "$$ y\\prime\\prime\\prime-6y\\prime\\prime+11y\\prime-6y=0 $$\n",
      "$$ y_1(x)=e^x, y_2(x)=e^{2x}, y_3(x)=e^{3x} $$\n",
      "(You check they are solutions!)\n",
      "\n",
      "To show $y_1, y_2, y_3$ are linearly independant.\n",
      "Now our Wrauskian:\n",
      "$$ W= \\begin{vmatrix}\n",
      "e^x & e^{2x} & e^{3x} \\\\\\\n",
      "e^x & 2e^{2x} & 3e^{3x} \\\\\\\n",
      "e^x & 4e^{2x} & 9e^{3x}\n",
      "\\end{vmatrix} $$\n",
      "\n",
      "$$ = e^x \\begin{vmatrix} 2e^{2x} & 3e^{3x} \\\\\\ 4x^{2x} & 9e^{3x} \\end{vmatrix} - e^{2x} \\begin{vmatrix} e^x & 3x^{3x} \\\\\\ e^x & 9e^{3x} \\end{vmatrix} - e^{3x} \\begin{vmatrix} e^x & 2e^{2x} \\\\\\ e^x & 4e^{2x} \\end{vmatrix} = 2e^{6x} \\neq 0 $$\n",
      "\n",
      "General solution:\n",
      "$$ y(x)=c_1e^x + c_2e^{2x} + c_3e^{3x} $$\n",
      "$$ c_1, c_2, c_3 \\in \\mathbb{R} $$"
     ]
    },
    {
     "cell_type": "markdown",
     "metadata": {},
     "source": [
      "## The Non-Homogenious Equation\n",
      "$$ a_n(x)\\frac{d^ny}{dx^n}+a_{n-1}(x)\\frac{d^{n-1}y}{dx^{n-1}}+ ... + a_1(x)\\frac{dy}{dx} + a_0(x)y=g(x) $$\n",
      "\n",
      "Let $y_1,...,y_n$ be $n$ linearly independant solutions of the linear homogenious equations. (When $g(x)$ is zero) and let $y_p$ be a particular solution of the non-homogenious equation. All defined on some interval $I$.\n",
      "\n",
      "## Theorem\n",
      "The general solution of the non-homogenious equation on $I$ is\n",
      "$$ y(x)=c_1y_1(x)+c_2y_2(x)+...+c_ny_n(x)+y_p(x) $$\n",
      "$$ c_1, c_2, ..., c_n \\in \\mathbb{R} $$\n",
      "\n",
      "Where $c_1y_1(x)+c_2y_2(x)+...+c_ny_n(x)$ is the **complimentary function**.\n",
      "\n",
      "### Ex.\n",
      "(From earlier)\n",
      "$$ y\\prime\\prime\\prime+6y\\prime\\prime+11y\\prime+6y=3x $$\n",
      "We know the **General solution** for this equation is\n",
      "$$ y(x) = c_1e^x+c_2e^{2x}+c_3e^{3x}+y_p(x) $$\n",
      "\n",
      "Check that $y_p(x)= - \\frac{11}{12}-\\frac{1}{2}x$ is a particular solution of the non-homogenious equation.\n",
      "$$ y_p\\prime = -\\frac{1}{2}, y_p\\prime\\prime=y_p\\prime\\prime\\prime(x)=0 $$\n",
      "$$ y_p\\prime\\prime\\prime + 6y_p\\prime\\prime + 11y_p\\prime - 6y_p = 0 - 0 + 11(-\\frac{11}{12}-\\frac{1}{2}x) = 3x $$\n",
      "So the **general solution**:\n",
      "$$ y(x) = c_1e^x+c_2e^{2x}+c_3e^{3x}-\\frac{11}{12}-\\frac{1}{2}x $$"
     ]
    },
    {
     "cell_type": "markdown",
     "metadata": {},
     "source": [
      "## Theorem\n",
      "(Superposition)\n",
      "\n",
      "Let $y_{p1}, y_{p2}, ..., y_{pk}$ be $k$ particular solutions of the linear non-homogeneous equation on an interval $I$, corresponding to $k$ distinct functions $g_1, ..., g_k$.\n",
      "\n",
      "In other words, $y_pi$ is a particular solution of\n",
      "$$ a_n(x)\\frac{d^ny}{dx^n} + ... + a_1(x)y\\prime + a_0(x)y=g_i(x) $$\n",
      "\n",
      "Then, \n",
      "$$ y_p = y_{p_1} + y_{p2}+...+y_{pk} $$\n",
      "Is a particular solution of\n",
      "$$ a_n(x)\\frac{d^ny}{dx^n} + a_{n-1}(x)\\frac{d^{n-1}y}{dx^{n-1}} + ... + a_1(x)y\\prime + a_0(x)y= g_1(x)+...+g_k(x) $$\n",
      "\n",
      "### Ex.\n",
      "$$ y\\prime\\prime + y\\prime + 4y = -16x^2 + 24x - 8 $$\n",
      "Particular solution:\n",
      "$$ y_{p1} = 4x^2 $$\n",
      "\n",
      "\n",
      "$$ y\\prime\\prime - 3y\\prime + 4y = 2e^{2x} $$\n",
      "Particular solution:\n",
      "$$ y_{p2}=e^{2x} $$\n",
      "\n",
      "\n",
      "$$ y\\prime\\prime-3y+4y = 2xe^x + e^x $$\n",
      "Particular solution:\n",
      "$$ y_{p3}=xe^x $$\n",
      "\n",
      "Then $ y_p=-4x^2 + e^{2x} + xe^x $ is a particular solution of\n",
      "$$ y\\prime\\prime-3y\\prime+4y=-16x^2+24x-8+2e^{2x}+2x^x-e^x $$"
     ]
    },
    {
     "cell_type": "markdown",
     "metadata": {},
     "source": [
      "## Homework\n",
      "(day 1) Page 127, Problems 1-14\n",
      "\n",
      "(day 2) Page 127-129, Problems (some)"
     ]
    },
    {
     "cell_type": "code",
     "collapsed": false,
     "input": [],
     "language": "python",
     "metadata": {},
     "outputs": []
    }
   ],
   "metadata": {}
  }
 ]
}