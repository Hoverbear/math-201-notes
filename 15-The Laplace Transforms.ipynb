{
 "metadata": {
  "name": "15-The Laplace Transforms"
 },
 "nbformat": 3,
 "nbformat_minor": 0,
 "worksheets": [
  {
   "cells": [
    {
     "cell_type": "markdown",
     "metadata": {},
     "source": [
      "# 7.1 & 7.2 The Laplace Transform - Math 201\n",
      "### Dr. Florin Diacu (http://www.math.uvic.ca/faculty/diacu/)"
     ]
    },
    {
     "cell_type": "code",
     "collapsed": false,
     "input": [
      "from sympy import *\n",
      "%load_ext sympyprinting\n",
      "\n",
      "x = Symbol(\"x\")\n",
      "x+pi"
     ],
     "language": "python",
     "metadata": {},
     "outputs": [
      {
       "latex": [
        "$$x + \\pi$$"
       ],
       "output_type": "pyout",
       "png": "[encoded data removed]",
       "prompt_number": 12,
       "text": [
        "x + \u03c0"
       ]
      }
     ],
     "prompt_number": 12
    },
    {
     "cell_type": "markdown",
     "metadata": {},
     "source": [
      "# 7.1 Laplace Transform\n",
      "# LOST NOTES\n",
      "(Maybe get someone's notes)\n",
      "\n",
      "### Ex.\n",
      "$$ L\\\\{e^{5t}\\\\} = \\int_0^\\infty{e^{st}e^{-st}dt} = ... = \\frac{1}{s-5} $$\n",
      "\n",
      "### Ex.\n",
      "$$ L\\\\{\\sin{2t}\\\\} = \\int_0^\\infty{e^{-st}\\sin{2t}dt} = $$\n",
      "INtegrate by parts:\n",
      "$$ \\frac{-e^{-st}\\sin{2t}{s} (0 to \\infty) + \\frac{2}{s}\\int_0^\\infty{e^{-st}\\cos{2t}dt} = \\frac{2}[s}\\int_0^\\infty{e^{-st}\\cos{2t}dt} $$\n",
      "Integrate by parts again:\n",
      "$$ \\frac{2}{s}[\\frac{-e^{-st}\\cos{2t}}{s}] (0 to \\infty) - \\frac{4}{s^2}\\int_0^\\infty{e^{-st}\\sin{2t}dt} = \\frac{2}{s^2}-\\frac{4}{s^2}L\\\\{\\sin{2t}\\\\} $$\n",
      "$$ L\\\\{\\sin{2t}\\\\} = \\frac{2}{s^2} - \\frac{4}{s^2}L\\\\{\\sin{2t}\\\\} $$\n",
      "$$ \\Rightarrow L\\\\{\\sin{2t}\\\\} = \\frac{2}{s^2 + 4} $$\n",
      "\n",
      "## L Is a linear transform\n",
      "$$ \\int_0^\\infty{e^{-st}[\\alpha f(t) + \\beta g(t)]dt} = \\alpha\\int_0^\\infty{ e^{-st}f(t)dt } + \\beta\\int_0^\\infty{ e^{-st}g(t)dt } $$\n",
      "\n",
      "### Ex.\n",
      "$$ L\\\\{1+5t\\\\} = L\\\\{1\\\\}+5L\\\\{t\\\\} = \\frac{1}{s} + \\frac{5}{s^2} $$\n",
      "\n",
      "### Ex.\n",
      "$$ L\\\\{4e^{5t} - 10\\sin{2t}\\\\} = 4L\\\\{e^{5t}\\\\} - 10L\\\\{\\sin{2t}\\\\} = \\frac{4}{s-5} - \\frac{20}{s^2+4} $$\n",
      "$$ s \\gt 5 $$"
     ]
    },
    {
     "cell_type": "markdown",
     "metadata": {},
     "source": [
      "## Theorem\n",
      "1. $ L\\\\{1\\\\} = \\frac{1}{s} $\n",
      "2. $ L\\\\{t^n\\\\} = \\frac{n!}{s^{n+1}}, n=1,2,3 $\n",
      "3. $ L\\\\{e^{at}\\\\} = \\frac{1}{s-a} $\n",
      "4. $ L\\\\{\\sin{kt}\\\\} = \\frac{k}{s^2+k^2} $\n",
      "5. $ L\\\\{\\cos{kt}\\\\} = \\frac{s}{s^2+k^2} $\n",
      "6. $ L\\\\{\\sinh{kt}\\\\} = \\frac{k}{s^2-k^2} $\n",
      "7. $ L\\\\{\\cosh{kt}\\\\} = \\frac{s}{s^2-k^2} $\n",
      "\n",
      "The question we ask is: What kind of functions have laplace transforms (in sense of convergence)? Can we recognized functions that will have this property? For this, we will see two properties and a theorem we can use.\n",
      "\n",
      "### Piecewise Continuity\n",
      "Is it continuous in pieces?\n",
      "\n",
      "![](http://tutorial.math.lamar.edu/Classes/DE/LaplaceDefinition_files/image001.gif)\n",
      "\n",
      "A function $f:[0,-0]\\rightarrow \\mathbb{R}$ is called **piecewise continuous** is any finite interval there are at most a finite number of discontinuities.\n",
      "\n",
      "### Exponential Order\n",
      "A function $f$ is said to be of exponential order if there are constants $c,M\\gt0, T\\gt Q$ such that $|f(t)| \\geq Me^{ct}$ for all $t\\lt T$\n",
      "\n",
      "For example,\n",
      "$ f(t)=e^{t^2} $ is **not** of exponential order.\n",
      "\n",
      "# Theorem\n",
      "If $f$ is a piecewise continuous on $[0,\\infty)$ and of exponential order, then $L\\\\{f(t)\\\\}$ exists for $s \\gt c$\n",
      "\n",
      "### Ex.\n",
      "$$ f(t) = \\begin{cases} 0, 0 \\leq t \\lt 3 \\\\\\ 2, t \\leq 3 \\end{cases} $$\n",
      "\n",
      "Using the additivity of the integral:\n",
      "$$ L\\\\{f(t)\\\\} = \\int_0^\\infty{ e^{-st}f(t)dt } = \\int_0^3{ e^{-st}f(t)dt } + \\int_3^\\infty{ e^{-st}f(t)dt } =  \\int_0^3{ 0dt} + 2\\int_3^\\infty{ e^{-st}dt } = 0 + \\frac{2e^-3s}{s} $$\n",
      "$$ s \\gt 0 $$\n",
      "\n",
      "# Theorem\n",
      "If $f$ is peicewise continuous on $[0,\\infty)$ and of exponential order such that the laplace transform exists and $F(s) = L\\\\{f(t)\\\\}$ then $\\lim_{s\\rightarrow \\infty} F(s) = 0 $"
     ]
    },
    {
     "cell_type": "markdown",
     "metadata": {},
     "source": [
      "# 7.2 Inverse Laplace Transform\n",
      "If $F(s)$ is the laplace transform of $F(t)$, $L\\\\{f(t)\\\\}=F(s)$, then $f(t)$ is the inverse laplace transform of $F(s)$.\n",
      "$$ L^{-1}\\\\{F(s)\\\\} = f(t) $$\n",
      "\n",
      "$$ L\\\\{1\\\\} = \\frac{1}{s} \\Rightarrow 1 = L^{-1}\\\\{\\frac{1}{s}\\\\} $$\n",
      "$$ L\\\\{t\\\\} = \\frac{1}{s^2} \\Rightarrow t = L^{-1}\\\\{\\frac{1}{s^2}\\\\} $$\n",
      "$$ L\\\\{e^{-3t}\\\\} = \\frac{1}{s+3} \\Rightarrow e^{-3t} = L^{-1}\\\\{\\frac{1}{s+3}\\\\} $$\n",
      "\n",
      "See book for more!\n",
      "\n",
      "### Ex.\n",
      "$$ L^{-1}\\\\{\\frac{1}{s^5}\\\\} = \\frac{1}{4!}L^{-1}\\\\{\\frac{4!}{s^5}\\\\} = \\frac{1}{24}t^4 $$\n",
      "$$ L^{-1}\\\\{\\frac{1}{s^2+7}\\\\} = \\frac{1}{\\sqrt{7}}L^{-1}\\\\{\\frac{\\sqrt{7}}{s^2+\\sqrt{7}^2} = \\frac{1}{\\sqrt{7}} \\sin{\\sqrt{7}t} $$\n",
      "\n",
      "----\n",
      "\n",
      "$$ L^{-1} $$ is linear.\n",
      "$$ L^{-1}\\\\{ \\alpha F(s) +\\beta G(s) \\\\} = \\alpha L^{-a}\\\\{F(s)\\\\} + \\beta L^{-1}\\\\{G(s)\\\\} $$\n",
      "\n",
      "----\n",
      "\n",
      "### Ex.\n",
      "$$ L^{-1}\\\\{\\frac{-2s+6}{s^2+4}\\\\} = L^{-1}\\\\{\\frac{-2s}{s^2+4} + \\frac{6}{s^2+4}\\\\} = -2L^{-1}\\\\{\\frac{s}{s^2+4}\\\\} + \\frac{6}{2}L^{-1}\\\\{\\frac{2}{s^2+4}\\\\} = -2\\cos{2t}+3\\sin{2t} $$"
     ]
    },
    {
     "cell_type": "code",
     "collapsed": false,
     "input": [],
     "language": "python",
     "metadata": {},
     "outputs": []
    }
   ],
   "metadata": {}
  }
 ]
}