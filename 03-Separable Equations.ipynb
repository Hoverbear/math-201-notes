{
 "metadata": {
  "name": "03-Separable Equations"
 },
 "nbformat": 3,
 "nbformat_minor": 0,
 "worksheets": [
  {
   "cells": [
    {
     "cell_type": "markdown",
     "metadata": {},
     "source": [
      "# Separable Equations - Math 201\n",
      "### Dr. Florin Diacu (http://www.math.uvic.ca/faculty/diacu/)"
     ]
    },
    {
     "cell_type": "code",
     "collapsed": false,
     "input": [
      "from sympy import *\n",
      "%load_ext sympyprinting\n",
      "\n",
      "x = Symbol(\"x\")\n",
      "x+pi"
     ],
     "language": "python",
     "metadata": {},
     "outputs": [
      {
       "latex": [
        "$$x + \\pi$$"
       ],
       "output_type": "pyout",
       "png": "[encoded data removed]",
       "prompt_number": 1,
       "text": [
        "x + \u03c0"
       ]
      }
     ],
     "prompt_number": 1
    },
    {
     "cell_type": "markdown",
     "metadata": {},
     "source": [
      "**Ex.** Solve the I.V.P.\n",
      "$$ x\\prime = \\frac{2x}{t} $$\n",
      "$$ x(1)=3 $$\n",
      "\n",
      "First, solve the separable equations.\n",
      "$$ \\frac{x\\prime}{x}=\\frac{2}{t} $$\n",
      "$$ \\ln{|x|}=2\\ln{|t|}+C $$\n",
      "\n",
      "The general solution:\n",
      "$$ x(t)=kt^2, k \\in \\mathbb{R} $$\n",
      "\n",
      "In the original equation $ t \\neq 0 $\n",
      "So $x$ must be defined on intervals of the form $(-\\infty,0)$ or $(0,\\infty)$\n",
      "\n",
      "To obtain the particular solution with $x(1)=3$\n",
      "$$ 3=x(1)=k(1)^2 = k \\Rightarrow k = 3 $$\n",
      "\n",
      "So, the solution of the I.V.P. is $x:(0,\\infty)$\n",
      "$$ x: (0,\\infty) \\rightarrow \\mathbb{R}, x(t)=3t^3 $$"
     ]
    },
    {
     "cell_type": "markdown",
     "metadata": {},
     "source": [
      "## Autonomous vs Not-Autonomous\n",
      "In general $ x\\prime=F(t,x) $\n",
      "\n",
      "$ t = $ Independant Variable.\n",
      "$ x = $ Dependant Variable.\n",
      "\n",
      "When $ F(t,x) $ depends explicitly on $t$, such as $ F(t,x)=\\frac{2x}{t} $ the equation is called **not-autonomous**.\n",
      "\n",
      "When $ F(t,x) $ *does not* depend explicitly on $t$, such as for $ F(t,x) = x $ or $ F(t,x)=4x^2-1 $, the equation is called **autonomous**."
     ]
    },
    {
     "cell_type": "markdown",
     "metadata": {},
     "source": [
      "**Ex.**\n",
      "$$ x\\prime = 2x^2 - 1 $$\n",
      "\n",
      "It's separable.\n",
      "$$ \\frac{x\\prime}{4x^2-1} = 1 $$\n",
      "\n",
      "$$ \\int{\\frac{dx}{4x^2-1}} = \\int{dt} $$\n",
      "\n",
      "Using *Partial Fractions*:\n",
      "$$ \\frac{1}{4x^2-1}=\\frac{A}{2x-1}+\\frac{B}{2x+1} $$\n",
      "$$ \\frac{2(A+B)x+A-B}{4x^2-1}=\\frac{1}{4x^2-1} $$\n",
      "$$ A+B=0 $$\n",
      "$$ A-B=1 $$\n",
      "$$ A=\\frac{1}{2}, B=\\frac{-1}{2} $$\n",
      "\n",
      "Then...\n",
      "$$ \\int{\\frac{dx}{2(2x-1)}}-\\int{\\frac{dx}{2(2x+1)}}=t+c $$\n",
      "$$ \\frac{|2x-1|}{|2x+1|}= ke^{4t} $$\n",
      "\n",
      "Intervals...\n",
      "$$ |2x-1| = ...$$\n",
      "\n",
      "* $ 1-2x $ for $x$ on $(-\\infty,\\frac{1}{2})$\n",
      "* $ 2x-1 $ for $x$ on $(\\frac{1}{2},\\infty)$\n",
      "\n",
      "$$ |2x+1| = ...$$\n",
      "\n",
      "* $ -2x-1 $ for $x$ in $(-\\infty, -\\frac{1}{2})$\n",
      "* $ 2x+1 $ for $x$ in $(-\\frac{1}{2}, \\infty)$\n",
      "\n",
      "So, we need to find what works:\n",
      "$$ \\frac{|2x-1|}{|2x+1|} = ... $$\n",
      "\n",
      "* $ \\frac{1-2x}{2x+1} $ for $x$ on $(-1/2, 1/2]$\n",
      "* $\\frac{2x-1}{2x+1} $ for $x$ on $(-\\infty, -1/2] \\cup (1/2, \\infty) $\n",
      "\n",
      "Solving for $x$ in $(-1/2, 1/2]$ we get\n",
      "$$ x(t) = \\frac{1-ke^{4t}}{2(1+ke^{4t})} $$\n",
      "Wheras in $(-\\infty,-1/2] \\cup (1/2, \\infty)$, we get\n",
      "$$ x(t) = \\frac{1+ke^{4t}}{2(1-ke^{4t})}, k \\leftarrow \\mathbb{R} $$\n",
      "\n",
      "But, given that $k$ goes from $-\\infty$ to $\\infty$, these two formulae describe the same set of solutions. Lets choose\n",
      "$$ x(t)=\\frac{1+ke^{4t}}{2(1-ke^{4t})}, k \\in \\mathbb{R} $$\n",
      "\n",
      "**But**, *Don't forget singular solutions!*\n",
      "$$ 4x^2-1 = 0 $$\n",
      "$$ x_1(t)=\\frac{1}{2}, x_2(t)=-\\frac{1}{2} $$\n",
      "\n",
      "$x_1$ is already in the general formula (for $k=0$) but $x_2$ is not, so we have to include it separately."
     ]
    },
    {
     "cell_type": "markdown",
     "metadata": {},
     "source": [
      "## Growth and Decay problems\n",
      "Equations of the type: $ x\\prime = kx $ ... $k$ is fixed $\\neq 0$\n",
      "\n",
      "$$ \\frac{x\\prime}{x}=k $$\n",
      "\n",
      "General Solution: $ x(t)=Ce^{kt} $\n",
      "\n",
      "### Money Investments\n",
      "\n",
      "* Simple Interest\n",
      "* Compound Interest\n",
      "\n",
      "**Ex.** Investment of 10,000 dollars compounded continuously at 5%.\n",
      "What is the yield after 5 years?\n",
      "\n",
      "$$ \\Rightarrow k = 0.05 $$\n",
      "$$ x\\prime = 0.05t $$\n",
      "$$ x(0) = 10,000 $$\n",
      "\n",
      "We want 5 years:\n",
      "$$ x(5) = ? $$\n",
      "General solution:\n",
      "$$ x(t) = Ce^{0.05t} $$\n",
      "$$ 10,000 = x(0)=Ce^0 = C $$\n",
      "$$ x(5) = 10,000e^{0.05*5} $$\n",
      "$$ x(5)=10,000e^{0.25} $$\n",
      "$$ x(5)=12,840.25 $$\n",
      "\n",
      "**Ex.** Shroud of Turin\n",
      "1988 - 3 Labs\n",
      "Amount of $C_{12}/C_{14}$: 99.115% - 99.275% \n",
      "\n",
      "Half-Life $ \\Rightarrow k = -0.00001216 $\n",
      "\n",
      "How old is it?\n",
      "$$ x(t) = ce^{-0.00001216*t}=x_0 e^{-0.00001216*t} $$\n",
      "$$ x(0) = x_0 $$\n",
      "$$ x_0 = x(0)=Ce^0 = C $$\n",
      "$$ 0.9919x_0= x_0 e^{-0.00001216*t} $$\n",
      "\n",
      "Now find $t$\n",
      "$$ t = - \\frac{\\ln{0.99119}}{0.00001216} = 727.7168996 \\approx 728 $$\n",
      "Or,\n",
      "$$ 0.99275 = e^{-0.00001216*t} $$\n",
      "$$ t \\approx 598 $$\n",
      "So the shroud is from around 1390\n",
      "\n"
     ]
    },
    {
     "cell_type": "code",
     "collapsed": false,
     "input": [],
     "language": "python",
     "metadata": {},
     "outputs": []
    }
   ],
   "metadata": {}
  }
 ]
}