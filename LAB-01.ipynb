{
 "metadata": {
  "name": "LAB-01"
 },
 "nbformat": 3,
 "nbformat_minor": 0,
 "worksheets": [
  {
   "cells": [
    {
     "cell_type": "markdown",
     "metadata": {},
     "source": [
      "# Lab 01 - Math 201\n",
      "### Seth Chart (schart@uvic.ca)"
     ]
    },
    {
     "cell_type": "code",
     "collapsed": false,
     "input": [
      "from sympy import *\n",
      "%load_ext sympyprinting\n",
      "\n",
      "x = Symbol(\"x\")\n",
      "x+pi"
     ],
     "language": "python",
     "metadata": {},
     "outputs": [
      {
       "latex": [
        "$$x + \\pi$$"
       ],
       "output_type": "pyout",
       "png": "[encoded data removed]",
       "prompt_number": 1,
       "text": [
        "x + \u03c0"
       ]
      }
     ],
     "prompt_number": 1
    },
    {
     "cell_type": "markdown",
     "metadata": {},
     "source": [
      "## Separable DE's\n",
      "### Definition\n",
      "$$ \\frac{dy}{dx}=g(x)*h(y) $$\n",
      "Note how we have an $x$ part and a $y$ part."
     ]
    },
    {
     "cell_type": "markdown",
     "metadata": {},
     "source": [
      "### Which of the following DE's are seperable?\n",
      "\n",
      "1. $$ \\frac{dy}{dx}=xy $$\n",
      "    * Yes, trivially. $x$ part and  $y$ part.\n",
      "2. $$ \\frac{dy}{dx}=xe^x $$\n",
      "    * $x$-part: $xe^x$, $y$-part: 1\n",
      "3. $$ \\frac{dy}{dx}=\\frac{x*\\sin{x}}{\\ln{x}} $$\n",
      "    * $x$-part: $\\frac{x}{\\ln{x}}, $y$-part: $\\sin{y}$\n",
      "4. $$ \\frac{dy}{dx}=\\sin{xy} $$\n",
      "    * No.\n",
      "5. $$ \\frac{dy}{dx}=x+y^2 $$\n",
      "    * No.\n",
      "6. $$ \\frac{dy}{dx}=xy+x+y+1 $$\n",
      "    * $x$-part: $(x+1)$, $y$-part: $(y+1)$"
     ]
    },
    {
     "cell_type": "markdown",
     "metadata": {},
     "source": [
      "### How do we Solve Separable Differential Equations?\n",
      "\n",
      "1. Identify that it is separable.\n",
      "2. Separate variables\n",
      "    $$ \\frac{dy}{dx}=g(x)h(y) $$\n",
      "3. Integrate\n",
      "    $$ \\int{\\frac{1}{h(y)}}dy = \\int{g(x)}dx $$\n",
      "    $$ H(y)+C= G(x)+C_2 $$\n",
      "    $$ H(y)=G(x)+C $$\n",
      "4. Solve for $y$"
     ]
    },
    {
     "cell_type": "markdown",
     "metadata": {},
     "source": [
      "### Practice"
     ]
    },
    {
     "cell_type": "markdown",
     "metadata": {},
     "source": [
      "**Ex.** $ \\frac{dy}{dx}=y $\n",
      "\n",
      "**Solution:**\n",
      "\n",
      "$$ \\int{\\frac{1}{y}}dy = \\int{1}dx $$\n",
      "$$ \\ln{|y|} = x + C $$\n",
      "$$ |y| = e^{x+c} = e^x e^{C_3} $$\n",
      "$$ y = \\pm e^{c_3} e^x $$\n",
      "$$ ce^x =y $$\n",
      "\n",
      "What about singular solutions?\n",
      "\n",
      "We also have the singular solution $ y=0 $"
     ]
    },
    {
     "cell_type": "markdown",
     "metadata": {},
     "source": [
      "**Ex.** $ \\frac{dy}{dx}=\\frac{-x}{y} $\n",
      "\n",
      "**Solution:**\n",
      "\n",
      "1. $$ \\frac{dy}{dx}=-x*\\frac{1}{y} $$\n",
      "2. $$ \\int{y}dy=-\\int{x}dx $$\n",
      "    $$ \\frac{y^2}{2} = \\frac{-x^2}{2}+C $$\n",
      "3. $$ y^2 = -x^2 +C $$\n",
      "    $$ y = \\pm \\sqrt{C-x^2} $$\n",
      "\n",
      "A circle, radius of sqrt(C)... Check the direction!\n",
      "\n",
      "What about Singular Solutions?\n",
      "\n",
      "When $y=0$ the derivative is not defined, so we should not have solutions. Check out section 1.2"
     ]
    },
    {
     "cell_type": "markdown",
     "metadata": {},
     "source": [
      "**Ex.** $ \\frac{dy}{dx}=y^2-y $\n",
      "\n",
      "**Solution:**\n",
      "\n",
      "1. $$ \\frac{dy}{dx}=(y^2-y)*1 $$\n",
      "2. $$ \\int{\\frac{1}{y^2-y}}dy=\\int{1}dx $$\n",
      "    Using partial fractions:\n",
      "    $$ \\int{\\frac{1}{y(y-1)}}dx=\\int{1}dx $$\n",
      "    Try to 'zero' out an A,B\n",
      "    $$ \\int{\\frac{A}{y}\\frac{B}{(y-1)}}dx=\\int{1}dx $$\n",
      "    ...\n",
      "    $$ \\int{\\frac{-1}{y}+\\frac{1}{y-1}}dy = \\int{1}dx $$ \n",
      "    Integrate!\n",
      "    $$ \\ln{|\\frac{y-1}{y}|} = x+ C $$\n",
      "    $$ |\\frac{y-1}{y}|=ce^x $$\n",
      "    $$ y(1-Ce^x) = 1 $$\n",
      "    $$ y = \\frac{1}{1-Ce^x} $$\n",
      "\n",
      "What about Singular Solutions?"
     ]
    },
    {
     "cell_type": "markdown",
     "metadata": {},
     "source": [
      "**Ex.** $ \\frac{dy}{dx}=y^2x+x $\n",
      "\n",
      "**Solution:**\n",
      "\n",
      "What about Singular Solutions?"
     ]
    },
    {
     "cell_type": "code",
     "collapsed": false,
     "input": [
      "x = Symbol(\"x\")\n",
      "y = Symbol(\"y\")\n",
      "f = x\n",
      "#f\n",
      "#diff(f,x)\n",
      "integrate(f,x)\n",
      "#simplify(f)"
     ],
     "language": "python",
     "metadata": {},
     "outputs": [
      {
       "latex": [
        "$$\\frac{1}{2} x^{2}$$"
       ],
       "output_type": "pyout",
       "png": "[encoded data removed]",
       "prompt_number": 6,
       "text": [
        "\n",
        " 2\n",
        "x \n",
        "\u2500\u2500\n",
        "2 "
       ]
      }
     ],
     "prompt_number": 6
    },
    {
     "cell_type": "code",
     "collapsed": false,
     "input": [
      "1-(4/3)*(4)**3-4"
     ],
     "language": "python",
     "metadata": {},
     "outputs": [
      {
       "output_type": "pyout",
       "png": "[encoded data removed]",
       "prompt_number": 59,
       "text": [
        "-67"
       ]
      }
     ],
     "prompt_number": 59
    },
    {
     "cell_type": "code",
     "collapsed": false,
     "input": [
      "atan(1/2)-8"
     ],
     "language": "python",
     "metadata": {},
     "outputs": [
      {
       "latex": [
        "$$-8$$"
       ],
       "output_type": "pyout",
       "png": "[encoded data removed]",
       "prompt_number": 61,
       "text": [
        "-8"
       ]
      }
     ],
     "prompt_number": 61
    },
    {
     "cell_type": "code",
     "collapsed": false,
     "input": [],
     "language": "python",
     "metadata": {},
     "outputs": []
    }
   ],
   "metadata": {}
  }
 ]
}