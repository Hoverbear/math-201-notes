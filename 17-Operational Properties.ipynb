{
 "metadata": {
  "name": "17-Operational Properties"
 },
 "nbformat": 3,
 "nbformat_minor": 0,
 "worksheets": [
  {
   "cells": [
    {
     "cell_type": "markdown",
     "metadata": {},
     "source": [
      "# 7.3 Operational Properties - Math 201\n",
      "### Dr. Florin Diacu (http://www.math.uvic.ca/faculty/diacu/)"
     ]
    },
    {
     "cell_type": "markdown",
     "metadata": {},
     "source": [
      "$$ L\\\\{e^{at}f(t)\\\\} = ? $$\n",
      "## First Translation Theorem\n",
      "If $ L\\\\{f(t)\\\\}= F(s) $ then\n",
      "$$ L\\\\{e^{at}f(t)\\\\} = F(s-a) $$\n",
      "\n",
      "**Proof**:\n",
      "\n",
      "$$ L\\\\{e^{at}f(t)\\\\} = \\int_0^\\infty{ e^{-st}e^{at}f(t)dt } = \\int_0^\\infty{ e^{-(s-a)t}f(t)dt } = F(s-a) $$\n",
      "\n",
      "### Ex\n",
      "$$ L\\\\{e^{st}t^3\\\\} = L\\\\{t^3\\\\} $$\n",
      "Substitute $ s=s-5 $\n",
      "$$ = \\frac{3!}{s^4} = \\frac{3!}{(s-5)^4} $$\n",
      "\n",
      "### Ex\n",
      "$$ L\\\\{e^{-2t}\\cos{4t}\\\\} = L\\\\{\\cos{4t}\\\\} $$\n",
      "Substitute $ s = s-2 $\n",
      "$$ = \\frac{s}{s^2+16} = \\frac{s+2}{(s+2)^2+16} $$\n",
      "\n",
      "## The Inverse Transform\n",
      "$$ L^{-1}\\\\{F(s-a)\\\\} = L^{-1}\\\\{F(s)\\\\} $$\n",
      "Sub $s=s-a$\n",
      "$$ = e^{at}f(t) $$\n",
      "$$ f(t) = L^{-a}\\\\{F(s)\\\\} $$"
     ]
    },
    {
     "cell_type": "markdown",
     "metadata": {},
     "source": [
      "## More complicated\n",
      "### Ex\n",
      "$$ L^{-1}\\\\{\\frac{ 2s+5 }{ (s-3)^2 } $$\n",
      "What should we do with this? Simplify it a bit, via Partial Fractions.\n",
      "$$ \\frac{2s+5}{(s-3)^2} = \\frac{A}{s-3} + \\frac{B}{(s-3)^2} = \\frac{A(s-3)+B}{(s-3)^2} = \\frac{As-3A+B}{(s-3)^2} $$\n",
      "$$ A=2, B=11 $$\n",
      "So it becomes\n",
      "$$ \\frac{2s+5}{(s-3)^2} = \\frac{2}{s-3}+\\frac{11}{(s-3)^2} $$\n",
      "\n",
      "Back to laplace\n",
      "$$ L^{-1}\\\\{\\frac{2s+5}{(s-3)^2}\\\\} = 2L^{-1}\\\\{\\frac{1}{s-3}\\\\} + 11L^{-1}\\\\{\\frac{1}{(s-3)^2}\\\\} $$\n",
      "Subbing $s=s-3$\n",
      "$$ L^{-1}\\\\{\\frac{1}{(s-3)^2}\\\\} = L^{-1}\\\\{\\frac{1}{s^2}\\\\} = e^{3t}t $$\n",
      "\n",
      "Answer:\n",
      "$$ L^{-1}\\\\{\\frac{2s+5}{(s-3)^2}\\\\} = 2e^{3t}+11e^{3t}t $$\n",
      "\n",
      "### Ex\n",
      "$$ y\\prime\\prime - 6y\\prime + 9y = t^2e^{3t} $$\n",
      "$$ y(0)=2, y\\prime(0)=17 $$\n",
      "\n",
      "$$ Y(s)=L\\\\{y(t)\\\\} $$\n",
      "$$ L\\\\{y\\prime\\prime\\\\} - 6L\\\\{y\\prime\\\\} + 9L\\\\{y\\\\} = L\\\\{t^2e^{3t}\\\\} $$\n",
      "$$ s^2Y(s) - sy(0) - y\\prime(0) $$\n",
      "$$ -6[sY(0)-y(0)]+ 9Y(s) = \\frac{2}{(s-3)^3} $$\n",
      "$$ (s^2-6s+9)Y(s)=2s+5+\\frac{2}{(s-3)^2} $$\n",
      "$$ Y(0)=\\frac{2s+5}{(s-3)^2} +\\frac{2}{(s-3)^5} $$\n",
      "$$ = \\frac{2}{s-3} + \\frac{1}{(s-3)^2} + \\frac{2}{(s-3)^5} $$\n",
      "Done algebra part, apply inverse laplace.\n",
      "\n",
      "$$ y(t) = 2L^{-1}\\\\{\\frac{1}{s-3}\\\\} + 11L^{-1}\\\\{\\frac{1}{(s-3)^2}\\\\} + \\frac{2}{4!}L^{-1}\\\\{\\frac{4!}{(s-3)^5} = 2e^{3t} + 11te^{3t} + \\frac{1}{12}t^4e^{3t} $$"
     ]
    },
    {
     "cell_type": "markdown",
     "metadata": {},
     "source": [
      "# Applications\n",
      "\n",
      "## Unit Step (Heaviside) Functions\n",
      "$$ U(t-a) = \\begin{cases} 0, 0 \\leq t \\lt a \\\\\\ 1, t \\geq a \\end{cases} $$\n",
      "This is obviously discontinuous functions, however it is peicewise continuous... So laplace applies.\n",
      "\n",
      "$$ f(t) = tU(t-a) $$\n",
      "\n",
      "### Ex\n",
      "$$ f(t) = \\begin{cases} g(t), 0 \\leq t \\lt a \\\\\\ h(t), t\\geq a \\end{cases} $$\n",
      "$$ f(t) = g(t) - g(t)U(t-a) + h(t)U(t-a) $$\n",
      "\n",
      "### Ex\n",
      "$$ f(t) = \\begin{cases} 0, \\leq t \\lt a \\\\\\ g(t), a \\leq t \\lt b  \\\\\\ 0, t \\geq b \\end{cases} $$\n",
      "$$ f(t) = g(t)[U(t-a) - U(t-b)] $$\n",
      "\n",
      "### Ex\n",
      "$$ f(t) = \\begin{cases} 20t, 0 \\leq t \\lt 5 \\\\\\ 0, t \\geq 5 \\end{cases} $$\n",
      "$$ a=5, U(t-5) $$\n",
      "$$ f(t) = 20t - 20tU(t-5) $$\n",
      "\n",
      "$$ f(t-a)U(t-a) = \\begin{cases} 0, 0 \\geq t \\gt a \\\\\\ f(t-a), t \\geq a \\end{cases} $$\n"
     ]
    },
    {
     "cell_type": "markdown",
     "metadata": {},
     "source": [
      "# Second Translation Theorem\n",
      "If $ F(s) = L\\\\{f(t)\\\\}, a \\gt 0 $, then\n",
      "$$ L\\\\{f(t-a)U(t-a)\\\\} = e^{-as}F(s) $$\n",
      "\n",
      "**Proof:**\n",
      "$$ L\\\\{f(t-a)U(t-a)\\\\} = \\int_0^\\infty{ e^{-st}f(t-a)U(t-a)dt } = \\int_0^a{ e^{-st}f(t-a)U(t-a)dt } + \\int_a^\\infty{ e^{-st}f(t-a)U(t-a)dt } = \\int_0^a{0 dt} + \\int_a^\\infty{ e^{-st}f(t-a)dt } $$\n",
      "Setting $v=t-a$, $dv =dt $\n",
      "$$ = \\int_0^\\infty{ e^{-s(v+a)}f(v)dv } = e^{-as}L\\\\{f(t)\\\\} $$\n",
      "\n",
      "As a consequence of this theorem:\n",
      "### UnitStep\n",
      "$$ L\\\\{U(t-a)\\\\}=\\frac{e^{-as}}{s} $$\n",
      "\n",
      "### Ex\n",
      "$$ f(t) = 2-3U(t-2)+U(t-3) $$\n",
      "$$ f(t) = \\begin{cases} 2, 0 \\leq t \\leq 2 \\\\\\ -1, 2\\leq \\lt 3 \\\\\\ 0, t \\geq 3 \\end{cases} $$\n",
      "$$ L\\\\{f(t)\\\\} = 2L\\\\{1\\\\} - 3L\\\\{U(t-2)\\\\} + L\\\\{U(t-3)\\\\} = \\frac{2}{s} - 3\\frac{e^{-2s}}{s} + \\frac{e^{-3s}}{s} $$"
     ]
    },
    {
     "cell_type": "markdown",
     "metadata": {},
     "source": [
      "# Inverse Formula\n",
      "$$ L^{-1}\\\\{ e^{-a}F(s) \\\\} = f(t-a)U(t-a) $$\n",
      "$$ a \\gt 0, L^{-1}\\\\{F(s)\\\\} = f(t) $$\n",
      "\n",
      "### Ex\n",
      "$$ L^{-1}\\\\{ \\frac{1}{s-4}e^{-2s} \\\\} $$\n",
      "The $a$ we're interested in is $a=2$, and $F(s) = \\frac{1}{s-4}$. We're saying that $L^{-1}\\\\{F(s)\\\\} = e^{4t} $\n",
      "\n",
      "$$ L^{-1}\\\\{ \\frac{1}{s-4}e^{-2s} \\\\} = e^{4(t-2)}U(t-2) $$\n",
      "\n",
      "### Ex\n",
      "$$ L^{-1}\\\\{ \\frac{s}{s^2+9}e^{-\\frac{\\pi s}{2}} \\\\} $$\n",
      "\n",
      "$ a =\\frac{\\pi}{2} $, $F(s) = \\frac{s}{s^2+9} $, $ L^{-1}\\\\{F(s)\\\\} = \\cos{3t} $\n",
      "\n",
      "$$ L^{-1}\\\\{ \\frac{s}{s^2+9}e^{-\\frac{\\pi s}{2}} \\\\} = \\cos{3(t-\\frac{\\pi}{2})}U(t-\\frac{\\pi}{2}) = -\\sin{3t}U(t-\\frac{\\pi}{2}) $$\n",
      "\n",
      "\n",
      "**Back to the theorem itself**\n",
      "\n",
      "$$ u=t-a$$\n",
      "\n",
      "$$ L\\\\{g(t)U(t-a)\\\\} = \\int_a^\\infty{ e^{-st}g(t)dt } = \\int_b^\\infty{ e^{-s(u+a)}g(u+a)du } $$\n",
      "$$ L\\\\{g(t)U(t-a)\\\\} = e^{-as}L\\\\{g(t+a)\\\\} $$\n",
      "\n",
      "### Ex.\n",
      "$$ L\\\\{\\cos{t}U(t-\\pi)\\\\} $$\n",
      "$$ g(t) = \\cos{t}, a = \\pi $$\n",
      "$$ g(t+\\pi) = \\cos{t+\\pi} = -\\cos{t} $$\n",
      "\n",
      "$$ L\\\\{ \\cos{t}U(t-\\pi) \\\\} = -e^{-\\pi s}L\\\\{\\cos{t}\\\\} = -\\frac{s}{s^2+1}e^{-\\pi s} $$"
     ]
    },
    {
     "cell_type": "code",
     "collapsed": false,
     "input": [],
     "language": "python",
     "metadata": {},
     "outputs": []
    }
   ],
   "metadata": {}
  }
 ]
}