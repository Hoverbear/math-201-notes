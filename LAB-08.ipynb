{
 "metadata": {
  "name": "LAB-08"
 },
 "nbformat": 3,
 "nbformat_minor": 0,
 "worksheets": [
  {
   "cells": [
    {
     "cell_type": "markdown",
     "metadata": {},
     "source": [
      "# Lab 08 - Math 201\n",
      "### Dr. Florin Diacu (http://www.math.uvic.ca/faculty/diacu/)"
     ]
    },
    {
     "cell_type": "markdown",
     "metadata": {},
     "source": [
      "A linear DE of the form\n",
      "$$ a_nx^ny^{(n)}+ ... + a_1xy^\\prime+a_0y = g(x) $$\n",
      "where the $a_k$ are constants is called a Cauchy-Euler equation.\n",
      "\n",
      "### Q1\n",
      "Give examples of differential equations which are Cauchy-Euler and examples of equations which are not. Make an example to trick your neighbor.\n",
      "\n",
      "**Is:**\n",
      "$$ x^2y^{\\prime\\prime} + xy^{\\prime} + y = \\sin{x} $$\n",
      "$$ x^3y^{\\prime\\prime\\prime} + 13x^2y^{\\prime\\prime} - 6xy^{\\prime} + y = e^{x} $$\n",
      "$$ 3x^2y^{\\prime\\prime} - y = 0 $$\n",
      "\n",
      "**Not:**\n",
      "$$ x^2y^{\\prime\\prime} + xy = \\tan{x} $$\n",
      "$$ x^3y^{\\prime\\prime\\prime} + 2xy^{\\prime} = e^{y} $$\n",
      "\n",
      "### Q2\n",
      "Can you guess a solution to the honogenous equation? Hint: You want to make all of the forms $a_kx^ky^{(k)}$ linearly dependent.\n",
      "\n",
      "Solve (By guessing $Y$):\n",
      "$$ a_nx^ny^{(n)}+ ... + a_1xy^{(1)} + a_0y = 0 $$\n",
      "\n",
      "Look at a term $a_kx^ky^{(k)}$.\n",
      "\n",
      "### Q3\n",
      "What happens if you substitute this solution into the homogeneous equation?\n",
      "\n",
      "Try $y=x^m$:\n",
      "$$ a_kx^k(m(m-1)(m-2)...(m-n)x^{m-k}) $$\n",
      "\n",
      "$$ x^m(a(m)(m-1)...(m-(n-1))+...+a_1m+a_0) $$\n",
      "\n",
      "### Q4\n",
      "Try your solution on the following Cauchy-Euler Equations:\n",
      "\n",
      "1. $$ x^2y^{\\prime\\prime} - 2xy^{\\prime} + 2y = 0 $$\n",
      "2. $$ x^2y^{\\prime\\prime} - xy^{\\prime} + y = 0 $$\n",
      "3. $$ x^2y^{\\prime\\prime} - xy^{\\prime} + y  $$\n",
      "\n",
      "**One**\n",
      "$$ x^2(m(m-1)x^{m-2})-2x(mx^{m-1})+2x^m = 0 $$\n",
      "$$ x^m(m(m-1)-2m+2) = 0 $$\n",
      "$$ m^2 -3m +2 =0 $$\n",
      "$$ (m-2)(m-1) = 0 $$\n",
      "\n",
      "$$ y_1=x $$\n",
      "$$ y_2=x^2 $$\n",
      "\n",
      "**Two**\n",
      "$$ x^m(m(m-1)-m+1) = 0 $$\n",
      "$$ m^2 - 2m +1 =0 $$\n",
      "$$ (m-1)(m-1)=0 $$\n",
      "\n",
      "$$ y_2=uy_1 $$\n",
      "$$ y_2^\\prime = u^\\prime + uy_1^\\prime $$\n",
      "$$ y_2^{\\prime\\prime} = ... $$\n",
      "\n",
      "**Trick from Pg. 140**\n",
      "$$ y_2 = y_1 \\int{ \\frac{ e^{ -\\int{P(x)}dx } }{ y_1(x)^2 } } dx $$\n",
      "\n",
      "**Three**\n",
      "$$ x^m(m(m-1)+m+1) = 0 $$\n",
      "$$ m = \\pm i $$\n",
      "\n",
      "$$ x^i = e^{i\\ln{x}} = \\cos{\\ln{x}}+ i \\sin{\\ln{x}} $$\n",
      "$$ x^{-i} = \\cos{-\\ln{x}} + i\\sin{-\\ln{x}} $$"
     ]
    },
    {
     "cell_type": "code",
     "collapsed": false,
     "input": [],
     "language": "python",
     "metadata": {},
     "outputs": []
    }
   ],
   "metadata": {}
  }
 ]
}