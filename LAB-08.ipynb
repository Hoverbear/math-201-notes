{
 "metadata": {
  "name": "LAB-08"
 },
 "nbformat": 3,
 "nbformat_minor": 0,
 "worksheets": [
  {
   "cells": [
    {
     "cell_type": "markdown",
     "metadata": {},
     "source": [
      "# Lab 08 - Math 201\n",
      "### Dr. Florin Diacu (http://www.math.uvic.ca/faculty/diacu/)"
     ]
    },
    {
     "cell_type": "markdown",
     "metadata": {},
     "source": [
      "A linear DE of the form\n",
      "$$ a_nx^ny^{(n)}+ ... + a_1xy^\\prime+a_0y = g(x) $$\n",
      "where the $a_k$ are constants is called a Cauchy-Euler equation.\n",
      "\n",
      "### Q1\n",
      "Give examples of differential equations which are Cauchy-Euler and example sof equations which are not. Make an example to trick your neighbor.\n",
      "\n",
      "### Q2\n",
      "Can you guess a solution to the honogenous equation? Hint: You want to make all of the forms $a_kx^ky^{(k)}$ linearly dependent.\n",
      "\n",
      "### Q3\n",
      "What happens if you substitute this solution into the homogeneous equation?\n",
      "\n",
      "### Q4\n",
      "Try your solution on the following Cauchy-Euler Equations:\n",
      "$$ x^2y^{\\prime\\prime} - 2xy^{\\prime} + 2y = 0 $$\n",
      "$$ x^2y^{\\prime\\prime} - xy^{\\prime} + y = 0 $$\n",
      "$$ x^2y^{\\prime\\prime} - xy^{\\prime} + y  $$\n",
      "\n"
     ]
    }
   ],
   "metadata": {}
  }
 ]
}