{
 "metadata": {
  "name": "09-Undetermined Coefficients"
 },
 "nbformat": 3,
 "nbformat_minor": 0,
 "worksheets": [
  {
   "cells": [
    {
     "cell_type": "markdown",
     "metadata": {},
     "source": [
      "# 4.4 Undetermined Coefficients - Math 201\n",
      "### Dr. Florin Diacu (http://www.math.uvic.ca/faculty/diacu/)"
     ]
    },
    {
     "cell_type": "code",
     "collapsed": false,
     "input": [
      "from sympy import *\n",
      "%load_ext sympyprinting\n",
      "\n",
      "x = Symbol(\"x\")\n",
      "x+pi"
     ],
     "language": "python",
     "metadata": {},
     "outputs": [
      {
       "latex": [
        "$$x + \\pi$$"
       ],
       "output_type": "pyout",
       "png": "[encoded data removed]",
       "prompt_number": 12,
       "text": [
        "x + \u03c0"
       ]
      }
     ],
     "prompt_number": 12
    },
    {
     "cell_type": "markdown",
     "metadata": {},
     "source": [
      "### Solve:\n",
      "$$ a_ny^{(n)}+a_{n-1}y^{(n-1)}+...+a_1y\\prime+a_0y = y(x) $$\n",
      "\n",
      "* Find the genreal solution of the homogenous equation $y_c$\n",
      "* Find any particular solutions $y_p$ of the non-homogeneous equation.\n",
      "\n",
      "The method of undetermined coefficients works when $g(x)$ is of the form **constant, polynomial, $\\sin{}$, $\\cos{}$, exponentials, and any combination of such.**\n",
      "\n",
      "It doesn't work for **logs, $\\frac{1}{x}$ (rationals), $tan{}$, inverse trig functions**\n",
      "\n",
      "$$ y\\prime\\prime+4y\\prime-2y=2x^2-3x+6 $$\n",
      "First, solve the homogenous equation:\n",
      "$$ m^2 + 4m -2 =0 $$\n",
      "$$ m_1 = -2 - \\sqrt{6}, m_2 = -2+\\sqrt{6} $$\n",
      "\n",
      "$$ y_c(x)=c_1e^{-(2+\\sqrt{6})x} + c_2e^{(-2+\\sqrt{6})x} $$\n",
      "However we know that $y=y_c+y_p$.\n",
      "\n",
      "Check a solution of the form\n",
      "$$ y_p(x)=Ax^2+Bx+C $$\n",
      "$$ y_p\\prime(x)=2Ax+B, y_p\\prime\\prime= 2A $$\n",
      "\n",
      "Substitute into the equation:\n",
      "$$ y_p\\prime\\prime+4y_p\\prime-2y_p = 2A+8Ax+4B-2Ax^2 - 2Bx - 2C = -2Ax^2+(8A-2B)x+2A+4B-2C $$\n",
      "\n",
      "So it follows via $ y\\prime\\prime+4y\\prime-2y=2x^2-3x+6 $\n",
      "\n",
      "$$ \\Rightarrow -2A=2 $$\n",
      "$$    8A-2B=-3 $$\n",
      "$$    2A+4B-3C=6 $$\n",
      "$$ \\Rightarrow A=-1, B=-\\frac{5}{2}, C=-9 $$\n",
      "$$ y_p(x)=-x^2-\\frac{5}{2}x+9 $$\n",
      "\n",
      "General solution:\n",
      "$$ y=y_c+y_p $$\n",
      "\n",
      "If $g(x)=2\\sin{3x}$ then check $y_p = A\\cos{3x}+B\\sin{3x}$\n",
      "\n",
      "If $g(x)=4x-5+6xe^{2x}$ then check $y_p=Ax+B+Cxe^{2x}+De^{2x}$\n",
      "\n",
      "**Look at the table on page 143! It tells you what to check!**"
     ]
    },
    {
     "cell_type": "code",
     "collapsed": false,
     "input": [],
     "language": "python",
     "metadata": {},
     "outputs": []
    }
   ],
   "metadata": {}
  }
 ]
}